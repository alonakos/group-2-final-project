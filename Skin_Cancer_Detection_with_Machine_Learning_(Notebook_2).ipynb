{
  "nbformat": 4,
  "nbformat_minor": 0,
  "metadata": {
    "colab": {
      "provenance": [],
      "machine_shape": "hm",
      "gpuType": "T4"
    },
    "kernelspec": {
      "name": "python3",
      "display_name": "Python 3"
    },
    "language_info": {
      "name": "python"
    },
    "accelerator": "GPU"
  },
  "cells": [
    {
      "cell_type": "markdown",
      "source": [
        "###Skin Cancer Detection with Machine Learning (Notebook 2)\n",
        "Alyona Kosobokova, Matthew Ongcapin, Pawan Bishwokarma, Tommy Poole"
      ],
      "metadata": {
        "id": "Kb88C5KUj7DK"
      }
    },
    {
      "cell_type": "markdown",
      "source": [
        "# ***Optimized Training Configuration***"
      ],
      "metadata": {
        "id": "lwS3VpYBkt_Z"
      }
    },
    {
      "cell_type": "code",
      "source": [
        "!pip install torchmetrics\n",
        "!pip install torcheval\n",
        "!pip install -U albumentations colorama\n",
        "\n",
        "from google.colab import drive\n",
        "drive.mount('/content/drive')"
      ],
      "metadata": {
        "id": "JHGZ8n51B8Qr"
      },
      "execution_count": null,
      "outputs": []
    },
    {
      "cell_type": "code",
      "source": [
        "import os\n",
        "import gc\n",
        "import cv2\n",
        "import math\n",
        "import copy\n",
        "import time\n",
        "import random\n",
        "import glob\n",
        "from matplotlib import pyplot as plt\n",
        "\n",
        "# For data manipulation\n",
        "import numpy as np\n",
        "import pandas as pd\n",
        "\n",
        "# Pytorch Imports\n",
        "import torch\n",
        "import torch.nn as nn\n",
        "import torch.optim as optim\n",
        "import torch.nn.functional as F\n",
        "from torch.optim import lr_scheduler\n",
        "from torch.utils.data import Dataset, DataLoader\n",
        "from torch.cuda import amp\n",
        "import torchvision\n",
        "from torcheval.metrics.functional import binary_auroc\n",
        "\n",
        "# Utils\n",
        "import joblib\n",
        "from tqdm import tqdm\n",
        "from collections import defaultdict\n",
        "\n",
        "# Sklearn Imports\n",
        "from sklearn.preprocessing import LabelEncoder\n",
        "from sklearn.model_selection import StratifiedKFold, StratifiedGroupKFold\n",
        "\n",
        "# For Image Models\n",
        "import timm\n",
        "\n",
        "# Albumentations for augmentations\n",
        "import albumentations as A\n",
        "from albumentations.pytorch import ToTensorV2\n",
        "\n",
        "# For colored terminal text\n",
        "from colorama import Fore, Back, Style\n",
        "b_ = Fore.BLUE\n",
        "sr_ = Style.RESET_ALL\n",
        "\n",
        "import warnings\n",
        "warnings.filterwarnings(\"ignore\")\n",
        "\n",
        "# For descriptive error messages\n",
        "os.environ['CUDA_LAUNCH_BLOCKING'] = \"1\""
      ],
      "metadata": {
        "id": "AF2CqC8TgMG4"
      },
      "execution_count": null,
      "outputs": []
    },
    {
      "cell_type": "markdown",
      "source": [
        "# ***Optimized Training Configuration***"
      ],
      "metadata": {
        "id": "Wz2Rvky58Biy"
      }
    },
    {
      "cell_type": "code",
      "source": [
        "CONFIG = {\n",
        "    \"seed\": 42,\n",
        "    \"epochs\": 50,\n",
        "    \"img_size\": 384,\n",
        "    \"model_name\": \"tf_efficientnet_b0_ns\",\n",
        "    \"checkpoint_path\" : \"/kaggle/input/tf-efficientnet/pytorch/tf-efficientnet-b0/1/tf_efficientnet_b0_aa-827b6e33.pth\",\n",
        "    \"train_batch_size\": 32,\n",
        "    \"valid_batch_size\": 64,\n",
        "    \"learning_rate\": 1e-4,\n",
        "    \"scheduler\": 'CosineAnnealingLR',\n",
        "    \"min_lr\": 1e-6,\n",
        "    \"T_max\": 500,\n",
        "    \"weight_decay\": 1e-6,\n",
        "    \"fold\" : 0,\n",
        "    \"n_fold\": 5,\n",
        "    \"n_accumulate\": 1,\n",
        "    \"device\": torch.device(\"cuda:0\" if torch.cuda.is_available() else \"cpu\"),\n",
        "}"
      ],
      "metadata": {
        "id": "-8oBe81hkz3v"
      },
      "execution_count": null,
      "outputs": []
    },
    {
      "cell_type": "code",
      "source": [
        "def set_seed(seed=42):\n",
        "    '''Sets the seed of the entire notebook for reproducibility.'''\n",
        "    np.random.seed(seed)\n",
        "    torch.manual_seed(seed)\n",
        "    torch.cuda.manual_seed(seed)\n",
        "    # CuDNN settings for reproducibility\n",
        "    torch.backends.cudnn.deterministic = True\n",
        "    torch.backends.cudnn.benchmark = False\n",
        "    # Fixed value for hash seed\n",
        "    os.environ['PYTHONHASHSEED'] = str(seed)\n",
        "\n",
        "# Set the seed based on CONFIG\n",
        "set_seed(CONFIG['seed'])\n",
        "\n",
        "# Optional: Test reproducibility\n",
        "print(\"Random test:\", np.random.rand(3))  # Should always give the same result"
      ],
      "metadata": {
        "colab": {
          "base_uri": "https://localhost:8080/"
        },
        "id": "Wi8rzV5Gmu2v",
        "outputId": "7335ab03-3b21-4d7c-f12c-8f8a9218b79b"
      },
      "execution_count": null,
      "outputs": [
        {
          "output_type": "stream",
          "name": "stdout",
          "text": [
            "Random test: [0.37454012 0.95071431 0.73199394]\n"
          ]
        }
      ]
    },
    {
      "cell_type": "code",
      "source": [
        "image_folder_path = \"/content/drive/MyDrive/AAI_501_Group_2_Project_Folder/ISIC_Data/ISIC_2024_Permissive_Training_Input\""
      ],
      "metadata": {
        "id": "II-yHO0aRJMd"
      },
      "execution_count": null,
      "outputs": []
    },
    {
      "cell_type": "code",
      "source": [
        "import os\n",
        "\n",
        "ROOT_DIR = \"\"\n",
        "TRAIN_DIR = image_folder_path\n",
        "\n",
        "def get_train_file_path(image_id):\n",
        "    return os.path.join(TRAIN_DIR, f\"{image_id}.jpg\")\n",
        "    # Load image file paths\n",
        "\n",
        "train_images = set(glob.glob(f\"{TRAIN_DIR}/*.jpg\"))"
      ],
      "metadata": {
        "id": "0oiRRyx5m-LY"
      },
      "execution_count": null,
      "outputs": []
    },
    {
      "cell_type": "markdown",
      "source": [
        "# ***Read Data***"
      ],
      "metadata": {
        "id": "pToZHRlDnOHv"
      }
    },
    {
      "cell_type": "code",
      "source": [
        "METADATA_PATH = os.path.join(\"train-metadata.csv\")\n",
        "\n",
        "# Read metadata\n",
        "df = pd.read_csv(METADATA_PATH)\n",
        "print(\"Original shape:\", df.shape)\n",
        "print(\"Positive cases:\", df[\"target\"].sum())\n",
        "print(\"Unique patients:\", df[\"patient_id\"].nunique())\n",
        "\n",
        "# Separate positive and negative cases\n",
        "df_positive = df.loc[df[\"target\"] == 1].reset_index(drop=True)\n",
        "df_negative = df.loc[df[\"target\"] == 0].reset_index(drop=True)\n",
        "\n",
        "# Balance dataset with a 1:20 positive:negative ratio\n",
        "POS_NEG_RATIO = 20\n",
        "df = pd.concat([df_positive, df_negative.iloc[:len(df_positive) * POS_NEG_RATIO]]).reset_index(drop=True)\n",
        "print(\"Filtered shape:\", df.shape)\n",
        "print(\"Positive cases:\", df[\"target\"].sum())\n",
        "print(\"Unique patients:\", df[\"patient_id\"].nunique())\n"
      ],
      "metadata": {
        "id": "u4dLl0B8nREy",
        "colab": {
          "base_uri": "https://localhost:8080/"
        },
        "outputId": "2a951938-3b6c-4025-c512-748e514e2cd2"
      },
      "execution_count": null,
      "outputs": [
        {
          "output_type": "stream",
          "name": "stdout",
          "text": [
            "Original shape: (401059, 55)\n",
            "Positive cases: 393\n",
            "Unique patients: 1042\n",
            "Filtered shape: (8253, 55)\n",
            "Positive cases: 393\n",
            "Unique patients: 950\n"
          ]
        }
      ]
    },
    {
      "cell_type": "code",
      "source": [
        "df['file_path'] = df['isic_id'].apply(get_train_file_path)\n",
        "df = df[ df[\"file_path\"].isin(train_images) ].reset_index(drop=True)\n",
        "df"
      ],
      "metadata": {
        "colab": {
          "base_uri": "https://localhost:8080/",
          "height": 860
        },
        "id": "dlmjMMCp0au2",
        "outputId": "27e30660-a701-432a-9dd9-22db6c016e86"
      },
      "execution_count": null,
      "outputs": [
        {
          "output_type": "execute_result",
          "data": {
            "text/plain": [
              "           isic_id  target  patient_id  age_approx     sex  \\\n",
              "0     ISIC_0096034       1  IP_6723298        75.0    male   \n",
              "1     ISIC_0104229       1  IP_9057861        80.0    male   \n",
              "2     ISIC_0119495       1  IP_6856511        60.0    male   \n",
              "3     ISIC_0157834       1  IP_3927284        55.0    male   \n",
              "4     ISIC_0190307       1  IP_4890448        65.0    male   \n",
              "...            ...     ...         ...         ...     ...   \n",
              "4352  ISIC_0267384       0  IP_6631830        45.0    male   \n",
              "4353  ISIC_0267466       0  IP_3549978        35.0  female   \n",
              "4354  ISIC_0267482       0  IP_1438784        50.0    male   \n",
              "4355  ISIC_0267560       0  IP_7746572        80.0    male   \n",
              "4356  ISIC_0267568       0  IP_0379091        60.0    male   \n",
              "\n",
              "     anatom_site_general  clin_size_long_diam_mm          image_type  \\\n",
              "0              head/neck                    3.88  TBP tile: close-up   \n",
              "1         anterior torso                    6.55  TBP tile: close-up   \n",
              "2        upper extremity                    5.27  TBP tile: close-up   \n",
              "3        posterior torso                    5.29  TBP tile: close-up   \n",
              "4              head/neck                    6.10  TBP tile: close-up   \n",
              "...                  ...                     ...                 ...   \n",
              "4352      anterior torso                    2.60  TBP tile: close-up   \n",
              "4353      anterior torso                    2.81  TBP tile: close-up   \n",
              "4354     lower extremity                    2.62  TBP tile: close-up   \n",
              "4355      anterior torso                    9.32  TBP tile: close-up   \n",
              "4356      anterior torso                    3.45  TBP tile: close-up   \n",
              "\n",
              "     tbp_tile_type   tbp_lv_A  ...  \\\n",
              "0        3D: white  26.187010  ...   \n",
              "1        3D: white  33.480140  ...   \n",
              "2        3D: white  25.872050  ...   \n",
              "3        3D: white  30.966662  ...   \n",
              "4           3D: XP  36.467641  ...   \n",
              "...            ...        ...  ...   \n",
              "4352     3D: white  18.465400  ...   \n",
              "4353     3D: white  22.023513  ...   \n",
              "4354     3D: white  14.411303  ...   \n",
              "4355     3D: white  18.481750  ...   \n",
              "4356     3D: white  13.901465  ...   \n",
              "\n",
              "                                              iddx_full     iddx_1  \\\n",
              "0     Malignant::Malignant adnexal epithelial prolif...  Malignant   \n",
              "1     Malignant::Malignant adnexal epithelial prolif...  Malignant   \n",
              "2     Malignant::Malignant epidermal proliferations:...  Malignant   \n",
              "3     Malignant::Malignant adnexal epithelial prolif...  Malignant   \n",
              "4     Malignant::Malignant adnexal epithelial prolif...  Malignant   \n",
              "...                                                 ...        ...   \n",
              "4352                                             Benign     Benign   \n",
              "4353                                             Benign     Benign   \n",
              "4354                                             Benign     Benign   \n",
              "4355                                             Benign     Benign   \n",
              "4356                                             Benign     Benign   \n",
              "\n",
              "                                                 iddx_2  \\\n",
              "0     Malignant adnexal epithelial proliferations - ...   \n",
              "1     Malignant adnexal epithelial proliferations - ...   \n",
              "2                    Malignant epidermal proliferations   \n",
              "3     Malignant adnexal epithelial proliferations - ...   \n",
              "4     Malignant adnexal epithelial proliferations - ...   \n",
              "...                                                 ...   \n",
              "4352                                                NaN   \n",
              "4353                                                NaN   \n",
              "4354                                                NaN   \n",
              "4355                                                NaN   \n",
              "4356                                                NaN   \n",
              "\n",
              "                                 iddx_3                             iddx_4  \\\n",
              "0                  Basal cell carcinoma      Basal cell carcinoma, Nodular   \n",
              "1                  Basal cell carcinoma      Basal cell carcinoma, Nodular   \n",
              "2     Squamous cell carcinoma, Invasive                                NaN   \n",
              "3                  Basal cell carcinoma  Basal cell carcinoma, Superficial   \n",
              "4                  Basal cell carcinoma      Basal cell carcinoma, Nodular   \n",
              "...                                 ...                                ...   \n",
              "4352                                NaN                                NaN   \n",
              "4353                                NaN                                NaN   \n",
              "4354                                NaN                                NaN   \n",
              "4355                                NaN                                NaN   \n",
              "4356                                NaN                                NaN   \n",
              "\n",
              "      iddx_5  mel_mitotic_index  mel_thick_mm  tbp_lv_dnn_lesion_confidence  \\\n",
              "0        NaN                NaN           NaN                     94.559590   \n",
              "1        NaN                NaN           NaN                     66.196170   \n",
              "2        NaN                NaN           NaN                     99.991270   \n",
              "3        NaN                NaN           NaN                     99.960846   \n",
              "4        NaN                NaN           NaN                     95.272583   \n",
              "...      ...                ...           ...                           ...   \n",
              "4352     NaN                NaN           NaN                     99.999700   \n",
              "4353     NaN                NaN           NaN                    100.000000   \n",
              "4354     NaN                NaN           NaN                     97.142226   \n",
              "4355     NaN                NaN           NaN                     97.022320   \n",
              "4356     NaN                NaN           NaN                     72.961688   \n",
              "\n",
              "                                              file_path  \n",
              "0     /content/drive/MyDrive/AAI_501_Group_2_Project...  \n",
              "1     /content/drive/MyDrive/AAI_501_Group_2_Project...  \n",
              "2     /content/drive/MyDrive/AAI_501_Group_2_Project...  \n",
              "3     /content/drive/MyDrive/AAI_501_Group_2_Project...  \n",
              "4     /content/drive/MyDrive/AAI_501_Group_2_Project...  \n",
              "...                                                 ...  \n",
              "4352  /content/drive/MyDrive/AAI_501_Group_2_Project...  \n",
              "4353  /content/drive/MyDrive/AAI_501_Group_2_Project...  \n",
              "4354  /content/drive/MyDrive/AAI_501_Group_2_Project...  \n",
              "4355  /content/drive/MyDrive/AAI_501_Group_2_Project...  \n",
              "4356  /content/drive/MyDrive/AAI_501_Group_2_Project...  \n",
              "\n",
              "[4357 rows x 56 columns]"
            ],
            "text/html": [
              "\n",
              "  <div id=\"df-ee710261-fe8a-4a27-97b2-c87dd197f99a\" class=\"colab-df-container\">\n",
              "    <div>\n",
              "<style scoped>\n",
              "    .dataframe tbody tr th:only-of-type {\n",
              "        vertical-align: middle;\n",
              "    }\n",
              "\n",
              "    .dataframe tbody tr th {\n",
              "        vertical-align: top;\n",
              "    }\n",
              "\n",
              "    .dataframe thead th {\n",
              "        text-align: right;\n",
              "    }\n",
              "</style>\n",
              "<table border=\"1\" class=\"dataframe\">\n",
              "  <thead>\n",
              "    <tr style=\"text-align: right;\">\n",
              "      <th></th>\n",
              "      <th>isic_id</th>\n",
              "      <th>target</th>\n",
              "      <th>patient_id</th>\n",
              "      <th>age_approx</th>\n",
              "      <th>sex</th>\n",
              "      <th>anatom_site_general</th>\n",
              "      <th>clin_size_long_diam_mm</th>\n",
              "      <th>image_type</th>\n",
              "      <th>tbp_tile_type</th>\n",
              "      <th>tbp_lv_A</th>\n",
              "      <th>...</th>\n",
              "      <th>iddx_full</th>\n",
              "      <th>iddx_1</th>\n",
              "      <th>iddx_2</th>\n",
              "      <th>iddx_3</th>\n",
              "      <th>iddx_4</th>\n",
              "      <th>iddx_5</th>\n",
              "      <th>mel_mitotic_index</th>\n",
              "      <th>mel_thick_mm</th>\n",
              "      <th>tbp_lv_dnn_lesion_confidence</th>\n",
              "      <th>file_path</th>\n",
              "    </tr>\n",
              "  </thead>\n",
              "  <tbody>\n",
              "    <tr>\n",
              "      <th>0</th>\n",
              "      <td>ISIC_0096034</td>\n",
              "      <td>1</td>\n",
              "      <td>IP_6723298</td>\n",
              "      <td>75.0</td>\n",
              "      <td>male</td>\n",
              "      <td>head/neck</td>\n",
              "      <td>3.88</td>\n",
              "      <td>TBP tile: close-up</td>\n",
              "      <td>3D: white</td>\n",
              "      <td>26.187010</td>\n",
              "      <td>...</td>\n",
              "      <td>Malignant::Malignant adnexal epithelial prolif...</td>\n",
              "      <td>Malignant</td>\n",
              "      <td>Malignant adnexal epithelial proliferations - ...</td>\n",
              "      <td>Basal cell carcinoma</td>\n",
              "      <td>Basal cell carcinoma, Nodular</td>\n",
              "      <td>NaN</td>\n",
              "      <td>NaN</td>\n",
              "      <td>NaN</td>\n",
              "      <td>94.559590</td>\n",
              "      <td>/content/drive/MyDrive/AAI_501_Group_2_Project...</td>\n",
              "    </tr>\n",
              "    <tr>\n",
              "      <th>1</th>\n",
              "      <td>ISIC_0104229</td>\n",
              "      <td>1</td>\n",
              "      <td>IP_9057861</td>\n",
              "      <td>80.0</td>\n",
              "      <td>male</td>\n",
              "      <td>anterior torso</td>\n",
              "      <td>6.55</td>\n",
              "      <td>TBP tile: close-up</td>\n",
              "      <td>3D: white</td>\n",
              "      <td>33.480140</td>\n",
              "      <td>...</td>\n",
              "      <td>Malignant::Malignant adnexal epithelial prolif...</td>\n",
              "      <td>Malignant</td>\n",
              "      <td>Malignant adnexal epithelial proliferations - ...</td>\n",
              "      <td>Basal cell carcinoma</td>\n",
              "      <td>Basal cell carcinoma, Nodular</td>\n",
              "      <td>NaN</td>\n",
              "      <td>NaN</td>\n",
              "      <td>NaN</td>\n",
              "      <td>66.196170</td>\n",
              "      <td>/content/drive/MyDrive/AAI_501_Group_2_Project...</td>\n",
              "    </tr>\n",
              "    <tr>\n",
              "      <th>2</th>\n",
              "      <td>ISIC_0119495</td>\n",
              "      <td>1</td>\n",
              "      <td>IP_6856511</td>\n",
              "      <td>60.0</td>\n",
              "      <td>male</td>\n",
              "      <td>upper extremity</td>\n",
              "      <td>5.27</td>\n",
              "      <td>TBP tile: close-up</td>\n",
              "      <td>3D: white</td>\n",
              "      <td>25.872050</td>\n",
              "      <td>...</td>\n",
              "      <td>Malignant::Malignant epidermal proliferations:...</td>\n",
              "      <td>Malignant</td>\n",
              "      <td>Malignant epidermal proliferations</td>\n",
              "      <td>Squamous cell carcinoma, Invasive</td>\n",
              "      <td>NaN</td>\n",
              "      <td>NaN</td>\n",
              "      <td>NaN</td>\n",
              "      <td>NaN</td>\n",
              "      <td>99.991270</td>\n",
              "      <td>/content/drive/MyDrive/AAI_501_Group_2_Project...</td>\n",
              "    </tr>\n",
              "    <tr>\n",
              "      <th>3</th>\n",
              "      <td>ISIC_0157834</td>\n",
              "      <td>1</td>\n",
              "      <td>IP_3927284</td>\n",
              "      <td>55.0</td>\n",
              "      <td>male</td>\n",
              "      <td>posterior torso</td>\n",
              "      <td>5.29</td>\n",
              "      <td>TBP tile: close-up</td>\n",
              "      <td>3D: white</td>\n",
              "      <td>30.966662</td>\n",
              "      <td>...</td>\n",
              "      <td>Malignant::Malignant adnexal epithelial prolif...</td>\n",
              "      <td>Malignant</td>\n",
              "      <td>Malignant adnexal epithelial proliferations - ...</td>\n",
              "      <td>Basal cell carcinoma</td>\n",
              "      <td>Basal cell carcinoma, Superficial</td>\n",
              "      <td>NaN</td>\n",
              "      <td>NaN</td>\n",
              "      <td>NaN</td>\n",
              "      <td>99.960846</td>\n",
              "      <td>/content/drive/MyDrive/AAI_501_Group_2_Project...</td>\n",
              "    </tr>\n",
              "    <tr>\n",
              "      <th>4</th>\n",
              "      <td>ISIC_0190307</td>\n",
              "      <td>1</td>\n",
              "      <td>IP_4890448</td>\n",
              "      <td>65.0</td>\n",
              "      <td>male</td>\n",
              "      <td>head/neck</td>\n",
              "      <td>6.10</td>\n",
              "      <td>TBP tile: close-up</td>\n",
              "      <td>3D: XP</td>\n",
              "      <td>36.467641</td>\n",
              "      <td>...</td>\n",
              "      <td>Malignant::Malignant adnexal epithelial prolif...</td>\n",
              "      <td>Malignant</td>\n",
              "      <td>Malignant adnexal epithelial proliferations - ...</td>\n",
              "      <td>Basal cell carcinoma</td>\n",
              "      <td>Basal cell carcinoma, Nodular</td>\n",
              "      <td>NaN</td>\n",
              "      <td>NaN</td>\n",
              "      <td>NaN</td>\n",
              "      <td>95.272583</td>\n",
              "      <td>/content/drive/MyDrive/AAI_501_Group_2_Project...</td>\n",
              "    </tr>\n",
              "    <tr>\n",
              "      <th>...</th>\n",
              "      <td>...</td>\n",
              "      <td>...</td>\n",
              "      <td>...</td>\n",
              "      <td>...</td>\n",
              "      <td>...</td>\n",
              "      <td>...</td>\n",
              "      <td>...</td>\n",
              "      <td>...</td>\n",
              "      <td>...</td>\n",
              "      <td>...</td>\n",
              "      <td>...</td>\n",
              "      <td>...</td>\n",
              "      <td>...</td>\n",
              "      <td>...</td>\n",
              "      <td>...</td>\n",
              "      <td>...</td>\n",
              "      <td>...</td>\n",
              "      <td>...</td>\n",
              "      <td>...</td>\n",
              "      <td>...</td>\n",
              "      <td>...</td>\n",
              "    </tr>\n",
              "    <tr>\n",
              "      <th>4352</th>\n",
              "      <td>ISIC_0267384</td>\n",
              "      <td>0</td>\n",
              "      <td>IP_6631830</td>\n",
              "      <td>45.0</td>\n",
              "      <td>male</td>\n",
              "      <td>anterior torso</td>\n",
              "      <td>2.60</td>\n",
              "      <td>TBP tile: close-up</td>\n",
              "      <td>3D: white</td>\n",
              "      <td>18.465400</td>\n",
              "      <td>...</td>\n",
              "      <td>Benign</td>\n",
              "      <td>Benign</td>\n",
              "      <td>NaN</td>\n",
              "      <td>NaN</td>\n",
              "      <td>NaN</td>\n",
              "      <td>NaN</td>\n",
              "      <td>NaN</td>\n",
              "      <td>NaN</td>\n",
              "      <td>99.999700</td>\n",
              "      <td>/content/drive/MyDrive/AAI_501_Group_2_Project...</td>\n",
              "    </tr>\n",
              "    <tr>\n",
              "      <th>4353</th>\n",
              "      <td>ISIC_0267466</td>\n",
              "      <td>0</td>\n",
              "      <td>IP_3549978</td>\n",
              "      <td>35.0</td>\n",
              "      <td>female</td>\n",
              "      <td>anterior torso</td>\n",
              "      <td>2.81</td>\n",
              "      <td>TBP tile: close-up</td>\n",
              "      <td>3D: white</td>\n",
              "      <td>22.023513</td>\n",
              "      <td>...</td>\n",
              "      <td>Benign</td>\n",
              "      <td>Benign</td>\n",
              "      <td>NaN</td>\n",
              "      <td>NaN</td>\n",
              "      <td>NaN</td>\n",
              "      <td>NaN</td>\n",
              "      <td>NaN</td>\n",
              "      <td>NaN</td>\n",
              "      <td>100.000000</td>\n",
              "      <td>/content/drive/MyDrive/AAI_501_Group_2_Project...</td>\n",
              "    </tr>\n",
              "    <tr>\n",
              "      <th>4354</th>\n",
              "      <td>ISIC_0267482</td>\n",
              "      <td>0</td>\n",
              "      <td>IP_1438784</td>\n",
              "      <td>50.0</td>\n",
              "      <td>male</td>\n",
              "      <td>lower extremity</td>\n",
              "      <td>2.62</td>\n",
              "      <td>TBP tile: close-up</td>\n",
              "      <td>3D: white</td>\n",
              "      <td>14.411303</td>\n",
              "      <td>...</td>\n",
              "      <td>Benign</td>\n",
              "      <td>Benign</td>\n",
              "      <td>NaN</td>\n",
              "      <td>NaN</td>\n",
              "      <td>NaN</td>\n",
              "      <td>NaN</td>\n",
              "      <td>NaN</td>\n",
              "      <td>NaN</td>\n",
              "      <td>97.142226</td>\n",
              "      <td>/content/drive/MyDrive/AAI_501_Group_2_Project...</td>\n",
              "    </tr>\n",
              "    <tr>\n",
              "      <th>4355</th>\n",
              "      <td>ISIC_0267560</td>\n",
              "      <td>0</td>\n",
              "      <td>IP_7746572</td>\n",
              "      <td>80.0</td>\n",
              "      <td>male</td>\n",
              "      <td>anterior torso</td>\n",
              "      <td>9.32</td>\n",
              "      <td>TBP tile: close-up</td>\n",
              "      <td>3D: white</td>\n",
              "      <td>18.481750</td>\n",
              "      <td>...</td>\n",
              "      <td>Benign</td>\n",
              "      <td>Benign</td>\n",
              "      <td>NaN</td>\n",
              "      <td>NaN</td>\n",
              "      <td>NaN</td>\n",
              "      <td>NaN</td>\n",
              "      <td>NaN</td>\n",
              "      <td>NaN</td>\n",
              "      <td>97.022320</td>\n",
              "      <td>/content/drive/MyDrive/AAI_501_Group_2_Project...</td>\n",
              "    </tr>\n",
              "    <tr>\n",
              "      <th>4356</th>\n",
              "      <td>ISIC_0267568</td>\n",
              "      <td>0</td>\n",
              "      <td>IP_0379091</td>\n",
              "      <td>60.0</td>\n",
              "      <td>male</td>\n",
              "      <td>anterior torso</td>\n",
              "      <td>3.45</td>\n",
              "      <td>TBP tile: close-up</td>\n",
              "      <td>3D: white</td>\n",
              "      <td>13.901465</td>\n",
              "      <td>...</td>\n",
              "      <td>Benign</td>\n",
              "      <td>Benign</td>\n",
              "      <td>NaN</td>\n",
              "      <td>NaN</td>\n",
              "      <td>NaN</td>\n",
              "      <td>NaN</td>\n",
              "      <td>NaN</td>\n",
              "      <td>NaN</td>\n",
              "      <td>72.961688</td>\n",
              "      <td>/content/drive/MyDrive/AAI_501_Group_2_Project...</td>\n",
              "    </tr>\n",
              "  </tbody>\n",
              "</table>\n",
              "<p>4357 rows × 56 columns</p>\n",
              "</div>\n",
              "    <div class=\"colab-df-buttons\">\n",
              "\n",
              "  <div class=\"colab-df-container\">\n",
              "    <button class=\"colab-df-convert\" onclick=\"convertToInteractive('df-ee710261-fe8a-4a27-97b2-c87dd197f99a')\"\n",
              "            title=\"Convert this dataframe to an interactive table.\"\n",
              "            style=\"display:none;\">\n",
              "\n",
              "  <svg xmlns=\"http://www.w3.org/2000/svg\" height=\"24px\" viewBox=\"0 -960 960 960\">\n",
              "    <path d=\"M120-120v-720h720v720H120Zm60-500h600v-160H180v160Zm220 220h160v-160H400v160Zm0 220h160v-160H400v160ZM180-400h160v-160H180v160Zm440 0h160v-160H620v160ZM180-180h160v-160H180v160Zm440 0h160v-160H620v160Z\"/>\n",
              "  </svg>\n",
              "    </button>\n",
              "\n",
              "  <style>\n",
              "    .colab-df-container {\n",
              "      display:flex;\n",
              "      gap: 12px;\n",
              "    }\n",
              "\n",
              "    .colab-df-convert {\n",
              "      background-color: #E8F0FE;\n",
              "      border: none;\n",
              "      border-radius: 50%;\n",
              "      cursor: pointer;\n",
              "      display: none;\n",
              "      fill: #1967D2;\n",
              "      height: 32px;\n",
              "      padding: 0 0 0 0;\n",
              "      width: 32px;\n",
              "    }\n",
              "\n",
              "    .colab-df-convert:hover {\n",
              "      background-color: #E2EBFA;\n",
              "      box-shadow: 0px 1px 2px rgba(60, 64, 67, 0.3), 0px 1px 3px 1px rgba(60, 64, 67, 0.15);\n",
              "      fill: #174EA6;\n",
              "    }\n",
              "\n",
              "    .colab-df-buttons div {\n",
              "      margin-bottom: 4px;\n",
              "    }\n",
              "\n",
              "    [theme=dark] .colab-df-convert {\n",
              "      background-color: #3B4455;\n",
              "      fill: #D2E3FC;\n",
              "    }\n",
              "\n",
              "    [theme=dark] .colab-df-convert:hover {\n",
              "      background-color: #434B5C;\n",
              "      box-shadow: 0px 1px 3px 1px rgba(0, 0, 0, 0.15);\n",
              "      filter: drop-shadow(0px 1px 2px rgba(0, 0, 0, 0.3));\n",
              "      fill: #FFFFFF;\n",
              "    }\n",
              "  </style>\n",
              "\n",
              "    <script>\n",
              "      const buttonEl =\n",
              "        document.querySelector('#df-ee710261-fe8a-4a27-97b2-c87dd197f99a button.colab-df-convert');\n",
              "      buttonEl.style.display =\n",
              "        google.colab.kernel.accessAllowed ? 'block' : 'none';\n",
              "\n",
              "      async function convertToInteractive(key) {\n",
              "        const element = document.querySelector('#df-ee710261-fe8a-4a27-97b2-c87dd197f99a');\n",
              "        const dataTable =\n",
              "          await google.colab.kernel.invokeFunction('convertToInteractive',\n",
              "                                                    [key], {});\n",
              "        if (!dataTable) return;\n",
              "\n",
              "        const docLinkHtml = 'Like what you see? Visit the ' +\n",
              "          '<a target=\"_blank\" href=https://colab.research.google.com/notebooks/data_table.ipynb>data table notebook</a>'\n",
              "          + ' to learn more about interactive tables.';\n",
              "        element.innerHTML = '';\n",
              "        dataTable['output_type'] = 'display_data';\n",
              "        await google.colab.output.renderOutput(dataTable, element);\n",
              "        const docLink = document.createElement('div');\n",
              "        docLink.innerHTML = docLinkHtml;\n",
              "        element.appendChild(docLink);\n",
              "      }\n",
              "    </script>\n",
              "  </div>\n",
              "\n",
              "\n",
              "<div id=\"df-e306398e-6f48-4d38-95d0-a57b908b6fac\">\n",
              "  <button class=\"colab-df-quickchart\" onclick=\"quickchart('df-e306398e-6f48-4d38-95d0-a57b908b6fac')\"\n",
              "            title=\"Suggest charts\"\n",
              "            style=\"display:none;\">\n",
              "\n",
              "<svg xmlns=\"http://www.w3.org/2000/svg\" height=\"24px\"viewBox=\"0 0 24 24\"\n",
              "     width=\"24px\">\n",
              "    <g>\n",
              "        <path d=\"M19 3H5c-1.1 0-2 .9-2 2v14c0 1.1.9 2 2 2h14c1.1 0 2-.9 2-2V5c0-1.1-.9-2-2-2zM9 17H7v-7h2v7zm4 0h-2V7h2v10zm4 0h-2v-4h2v4z\"/>\n",
              "    </g>\n",
              "</svg>\n",
              "  </button>\n",
              "\n",
              "<style>\n",
              "  .colab-df-quickchart {\n",
              "      --bg-color: #E8F0FE;\n",
              "      --fill-color: #1967D2;\n",
              "      --hover-bg-color: #E2EBFA;\n",
              "      --hover-fill-color: #174EA6;\n",
              "      --disabled-fill-color: #AAA;\n",
              "      --disabled-bg-color: #DDD;\n",
              "  }\n",
              "\n",
              "  [theme=dark] .colab-df-quickchart {\n",
              "      --bg-color: #3B4455;\n",
              "      --fill-color: #D2E3FC;\n",
              "      --hover-bg-color: #434B5C;\n",
              "      --hover-fill-color: #FFFFFF;\n",
              "      --disabled-bg-color: #3B4455;\n",
              "      --disabled-fill-color: #666;\n",
              "  }\n",
              "\n",
              "  .colab-df-quickchart {\n",
              "    background-color: var(--bg-color);\n",
              "    border: none;\n",
              "    border-radius: 50%;\n",
              "    cursor: pointer;\n",
              "    display: none;\n",
              "    fill: var(--fill-color);\n",
              "    height: 32px;\n",
              "    padding: 0;\n",
              "    width: 32px;\n",
              "  }\n",
              "\n",
              "  .colab-df-quickchart:hover {\n",
              "    background-color: var(--hover-bg-color);\n",
              "    box-shadow: 0 1px 2px rgba(60, 64, 67, 0.3), 0 1px 3px 1px rgba(60, 64, 67, 0.15);\n",
              "    fill: var(--button-hover-fill-color);\n",
              "  }\n",
              "\n",
              "  .colab-df-quickchart-complete:disabled,\n",
              "  .colab-df-quickchart-complete:disabled:hover {\n",
              "    background-color: var(--disabled-bg-color);\n",
              "    fill: var(--disabled-fill-color);\n",
              "    box-shadow: none;\n",
              "  }\n",
              "\n",
              "  .colab-df-spinner {\n",
              "    border: 2px solid var(--fill-color);\n",
              "    border-color: transparent;\n",
              "    border-bottom-color: var(--fill-color);\n",
              "    animation:\n",
              "      spin 1s steps(1) infinite;\n",
              "  }\n",
              "\n",
              "  @keyframes spin {\n",
              "    0% {\n",
              "      border-color: transparent;\n",
              "      border-bottom-color: var(--fill-color);\n",
              "      border-left-color: var(--fill-color);\n",
              "    }\n",
              "    20% {\n",
              "      border-color: transparent;\n",
              "      border-left-color: var(--fill-color);\n",
              "      border-top-color: var(--fill-color);\n",
              "    }\n",
              "    30% {\n",
              "      border-color: transparent;\n",
              "      border-left-color: var(--fill-color);\n",
              "      border-top-color: var(--fill-color);\n",
              "      border-right-color: var(--fill-color);\n",
              "    }\n",
              "    40% {\n",
              "      border-color: transparent;\n",
              "      border-right-color: var(--fill-color);\n",
              "      border-top-color: var(--fill-color);\n",
              "    }\n",
              "    60% {\n",
              "      border-color: transparent;\n",
              "      border-right-color: var(--fill-color);\n",
              "    }\n",
              "    80% {\n",
              "      border-color: transparent;\n",
              "      border-right-color: var(--fill-color);\n",
              "      border-bottom-color: var(--fill-color);\n",
              "    }\n",
              "    90% {\n",
              "      border-color: transparent;\n",
              "      border-bottom-color: var(--fill-color);\n",
              "    }\n",
              "  }\n",
              "</style>\n",
              "\n",
              "  <script>\n",
              "    async function quickchart(key) {\n",
              "      const quickchartButtonEl =\n",
              "        document.querySelector('#' + key + ' button');\n",
              "      quickchartButtonEl.disabled = true;  // To prevent multiple clicks.\n",
              "      quickchartButtonEl.classList.add('colab-df-spinner');\n",
              "      try {\n",
              "        const charts = await google.colab.kernel.invokeFunction(\n",
              "            'suggestCharts', [key], {});\n",
              "      } catch (error) {\n",
              "        console.error('Error during call to suggestCharts:', error);\n",
              "      }\n",
              "      quickchartButtonEl.classList.remove('colab-df-spinner');\n",
              "      quickchartButtonEl.classList.add('colab-df-quickchart-complete');\n",
              "    }\n",
              "    (() => {\n",
              "      let quickchartButtonEl =\n",
              "        document.querySelector('#df-e306398e-6f48-4d38-95d0-a57b908b6fac button');\n",
              "      quickchartButtonEl.style.display =\n",
              "        google.colab.kernel.accessAllowed ? 'block' : 'none';\n",
              "    })();\n",
              "  </script>\n",
              "</div>\n",
              "\n",
              "  <div id=\"id_eae5f196-c4e3-45f0-b353-cd9e91f895c4\">\n",
              "    <style>\n",
              "      .colab-df-generate {\n",
              "        background-color: #E8F0FE;\n",
              "        border: none;\n",
              "        border-radius: 50%;\n",
              "        cursor: pointer;\n",
              "        display: none;\n",
              "        fill: #1967D2;\n",
              "        height: 32px;\n",
              "        padding: 0 0 0 0;\n",
              "        width: 32px;\n",
              "      }\n",
              "\n",
              "      .colab-df-generate:hover {\n",
              "        background-color: #E2EBFA;\n",
              "        box-shadow: 0px 1px 2px rgba(60, 64, 67, 0.3), 0px 1px 3px 1px rgba(60, 64, 67, 0.15);\n",
              "        fill: #174EA6;\n",
              "      }\n",
              "\n",
              "      [theme=dark] .colab-df-generate {\n",
              "        background-color: #3B4455;\n",
              "        fill: #D2E3FC;\n",
              "      }\n",
              "\n",
              "      [theme=dark] .colab-df-generate:hover {\n",
              "        background-color: #434B5C;\n",
              "        box-shadow: 0px 1px 3px 1px rgba(0, 0, 0, 0.15);\n",
              "        filter: drop-shadow(0px 1px 2px rgba(0, 0, 0, 0.3));\n",
              "        fill: #FFFFFF;\n",
              "      }\n",
              "    </style>\n",
              "    <button class=\"colab-df-generate\" onclick=\"generateWithVariable('df')\"\n",
              "            title=\"Generate code using this dataframe.\"\n",
              "            style=\"display:none;\">\n",
              "\n",
              "  <svg xmlns=\"http://www.w3.org/2000/svg\" height=\"24px\"viewBox=\"0 0 24 24\"\n",
              "       width=\"24px\">\n",
              "    <path d=\"M7,19H8.4L18.45,9,17,7.55,7,17.6ZM5,21V16.75L18.45,3.32a2,2,0,0,1,2.83,0l1.4,1.43a1.91,1.91,0,0,1,.58,1.4,1.91,1.91,0,0,1-.58,1.4L9.25,21ZM18.45,9,17,7.55Zm-12,3A5.31,5.31,0,0,0,4.9,8.1,5.31,5.31,0,0,0,1,6.5,5.31,5.31,0,0,0,4.9,4.9,5.31,5.31,0,0,0,6.5,1,5.31,5.31,0,0,0,8.1,4.9,5.31,5.31,0,0,0,12,6.5,5.46,5.46,0,0,0,6.5,12Z\"/>\n",
              "  </svg>\n",
              "    </button>\n",
              "    <script>\n",
              "      (() => {\n",
              "      const buttonEl =\n",
              "        document.querySelector('#id_eae5f196-c4e3-45f0-b353-cd9e91f895c4 button.colab-df-generate');\n",
              "      buttonEl.style.display =\n",
              "        google.colab.kernel.accessAllowed ? 'block' : 'none';\n",
              "\n",
              "      buttonEl.onclick = () => {\n",
              "        google.colab.notebook.generateWithVariable('df');\n",
              "      }\n",
              "      })();\n",
              "    </script>\n",
              "  </div>\n",
              "\n",
              "    </div>\n",
              "  </div>\n"
            ],
            "application/vnd.google.colaboratory.intrinsic+json": {
              "type": "dataframe",
              "variable_name": "df"
            }
          },
          "metadata": {},
          "execution_count": 214
        }
      ]
    },
    {
      "cell_type": "code",
      "source": [
        "df.shape[0], df.target.sum()"
      ],
      "metadata": {
        "colab": {
          "base_uri": "https://localhost:8080/"
        },
        "id": "ZGQZpTnq0eFR",
        "outputId": "921eb0cf-bc6e-4d9e-f496-cbe35d16de8b"
      },
      "execution_count": null,
      "outputs": [
        {
          "output_type": "execute_result",
          "data": {
            "text/plain": [
              "(4357, 76)"
            ]
          },
          "metadata": {},
          "execution_count": 215
        }
      ]
    },
    {
      "cell_type": "code",
      "source": [
        "CONFIG['T_max'] = df.shape[0] * (CONFIG[\"n_fold\"]-1) * CONFIG['epochs'] // CONFIG['train_batch_size'] // CONFIG[\"n_fold\"]\n",
        "CONFIG['T_max']"
      ],
      "metadata": {
        "colab": {
          "base_uri": "https://localhost:8080/"
        },
        "id": "wU7GqSxl0ggY",
        "outputId": "073d4df6-59de-42af-9607-37f41b955844"
      },
      "execution_count": null,
      "outputs": [
        {
          "output_type": "execute_result",
          "data": {
            "text/plain": [
              "5446"
            ]
          },
          "metadata": {},
          "execution_count": 216
        }
      ]
    },
    {
      "cell_type": "markdown",
      "source": [
        "# ***Creating folds***"
      ],
      "metadata": {
        "id": "7cxInsgX8prY"
      }
    },
    {
      "cell_type": "code",
      "source": [
        "# Ensure the dataframe has the required columns\n",
        "if 'target' not in df.columns or 'patient_id' not in df.columns:\n",
        "    raise ValueError(\"DataFrame must contain 'target' and 'patient_id' columns\")\n",
        "\n",
        "# Initialize StratifiedGroupKFold\n",
        "sgkf = StratifiedGroupKFold(n_splits=CONFIG['n_fold'])\n",
        "\n",
        "# Add a 'kfold' column initialized to -1\n",
        "df[\"kfold\"] = -1\n",
        "\n",
        "# Generate stratified group folds\n",
        "for fold, (_, val_) in enumerate(sgkf.split(df, df.target, df.patient_id)):\n",
        "    df.loc[val_, \"kfold\"] = int(fold)\n",
        "\n",
        "# Ensure 'kfold' column is integer type\n",
        "df[\"kfold\"] = df[\"kfold\"].astype(int)\n",
        "\n",
        "print(\"Folds created successfully!\")"
      ],
      "metadata": {
        "colab": {
          "base_uri": "https://localhost:8080/"
        },
        "id": "atuIof9x0pfW",
        "outputId": "05f23490-6284-4635-9b5c-e8aebee72a78"
      },
      "execution_count": null,
      "outputs": [
        {
          "output_type": "stream",
          "name": "stdout",
          "text": [
            "Folds created successfully!\n"
          ]
        }
      ]
    },
    {
      "cell_type": "markdown",
      "source": [
        "# ***Dataset Class***"
      ],
      "metadata": {
        "id": "NW22swhE0yTE"
      }
    },
    {
      "cell_type": "code",
      "source": [
        "import os\n",
        "import cv2\n",
        "import random\n",
        "from torch.utils.data import Dataset\n",
        "\n",
        "class ISICDataset_for_Train(Dataset):\n",
        "    def __init__(self, df, transforms=None, img_size=CONFIG[\"img_size\"]):\n",
        "        # Separate positive and negative samples\n",
        "        self.df_positive = df[df[\"target\"] == 1].reset_index(drop=True)\n",
        "        self.df_negative = df[df[\"target\"] == 0].reset_index(drop=True)\n",
        "        self.file_names_positive = self.df_positive['file_path'].values\n",
        "        self.file_names_negative = self.df_negative['file_path'].values\n",
        "        self.targets_positive = self.df_positive['target'].values\n",
        "        self.targets_negative = self.df_negative['target'].values\n",
        "        self.transforms = transforms\n",
        "        self.img_size = img_size\n",
        "\n",
        "    def __len__(self):\n",
        "        # Balance dataset by doubling positive and negative samples\n",
        "        return len(self.df_positive) * 2\n",
        "\n",
        "    def __getitem__(self, index):\n",
        "        # Randomly choose positive or negative sample\n",
        "        if random.random() >= 0.5:\n",
        "            file_names = self.file_names_positive\n",
        "            targets = self.targets_positive\n",
        "        else:\n",
        "            file_names = self.file_names_negative\n",
        "            targets = self.targets_negative\n",
        "\n",
        "        # Ensure index wraps around\n",
        "        index = index % len(file_names)\n",
        "\n",
        "        # Load and preprocess image\n",
        "        img_path = file_names[index]\n",
        "        if not os.path.exists(img_path):\n",
        "            raise FileNotFoundError(f\"Image not found at path: {img_path}\")\n",
        "\n",
        "        img = cv2.imread(img_path)\n",
        "        img = cv2.cvtColor(img, cv2.COLOR_BGR2RGB)\n",
        "        img = cv2.resize(img, (self.img_size, self.img_size))\n",
        "        target = targets[index]\n",
        "\n",
        "        # Apply transformations\n",
        "        if self.transforms:\n",
        "            img = self.transforms(image=img)[\"image\"]\n",
        "\n",
        "        return {\n",
        "            'image': img,\n",
        "            'target': target\n",
        "        }\n",
        "\n",
        "\n",
        "class ISICDataset(Dataset):\n",
        "    def __init__(self, df, transforms=None, img_size=CONFIG[\"img_size\"]):\n",
        "        self.df = df.reset_index(drop=True)\n",
        "        self.file_names = df['file_path'].values\n",
        "        self.targets = df['target'].values\n",
        "        self.transforms = transforms\n",
        "        self.img_size = img_size\n",
        "\n",
        "    def __len__(self):\n",
        "        return len(self.df)\n",
        "\n",
        "    def __getitem__(self, index):\n",
        "        # Load image and preprocess\n",
        "        img_path = self.file_names[index]\n",
        "        if not os.path.exists(img_path):\n",
        "            raise FileNotFoundError(f\"Image not found at path: {img_path}\")\n",
        "\n",
        "        img = cv2.imread(img_path)\n",
        "        img = cv2.cvtColor(img, cv2.COLOR_BGR2RGB)\n",
        "        img = cv2.resize(img, (self.img_size, self.img_size))\n",
        "        target = self.targets[index]\n",
        "\n",
        "        # Apply transformations\n",
        "        if self.transforms:\n",
        "            img = self.transforms(image=img)[\"image\"]\n",
        "\n",
        "        return {\n",
        "            'image': img,\n",
        "            'target': target\n",
        "        }\n"
      ],
      "metadata": {
        "id": "vdAE-SKz01nb"
      },
      "execution_count": null,
      "outputs": []
    },
    {
      "cell_type": "markdown",
      "source": [
        "# ***Augmentations***"
      ],
      "metadata": {
        "id": "uxQxQ6XG1LDA"
      }
    },
    {
      "cell_type": "code",
      "source": [
        "import albumentations as A\n",
        "from albumentations.pytorch import ToTensorV2\n",
        "\n",
        "data_transforms = {\n",
        "    \"train\": A.Compose([\n",
        "        A.Resize(CONFIG['img_size'], CONFIG['img_size']),  # Ensure all images are the same size\n",
        "        A.RandomRotate90(p=0.5),  # Random 90-degree rotations\n",
        "        A.Flip(p=0.5),  # Random horizontal/vertical flips\n",
        "        A.ShiftScaleRotate(\n",
        "            shift_limit=0.05,  # Reduce shift to save computation\n",
        "            scale_limit=0.1,   # Slight scaling for better efficiency\n",
        "            rotate_limit=30,   # Reduce rotation limit\n",
        "            p=0.5\n",
        "        ),\n",
        "        A.HueSaturationValue(\n",
        "            hue_shift_limit=0.1,\n",
        "            sat_shift_limit=0.1,\n",
        "            val_shift_limit=0.1,\n",
        "            p=0.5\n",
        "        ),  # Subtle color augmentation\n",
        "        A.RandomBrightnessContrast(\n",
        "            brightness_limit=(-0.1, 0.1),\n",
        "            contrast_limit=(-0.1, 0.1),\n",
        "            p=0.5\n",
        "        ),\n",
        "        A.Normalize(\n",
        "            mean=[0.485, 0.456, 0.406],\n",
        "            std=[0.229, 0.224, 0.225],\n",
        "            max_pixel_value=255.0,\n",
        "            p=1.0\n",
        "        ),  # Normalize for pretrained model compatibility\n",
        "        ToTensorV2()  # Convert to PyTorch tensor\n",
        "    ], p=1.),\n",
        "\n",
        "    \"valid\": A.Compose([\n",
        "        A.Resize(CONFIG['img_size'], CONFIG['img_size']),  # Ensure consistent validation size\n",
        "        A.Normalize(\n",
        "            mean=[0.485, 0.456, 0.406],\n",
        "            std=[0.229, 0.224, 0.225],\n",
        "            max_pixel_value=255.0,\n",
        "            p=1.0\n",
        "        ),  # Normalize\n",
        "        ToTensorV2()  # Convert to PyTorch tensor\n",
        "    ], p=1.)\n",
        "}\n"
      ],
      "metadata": {
        "id": "msQ--8571Nr-"
      },
      "execution_count": null,
      "outputs": []
    },
    {
      "cell_type": "markdown",
      "source": [
        "# ***GeM Pooling***\n"
      ],
      "metadata": {
        "id": "RQGhTeI82VZ_"
      }
    },
    {
      "cell_type": "code",
      "source": [
        "class GeM(nn.Module):\n",
        "    def __init__(self, p=3, eps=1e-6):\n",
        "        \"\"\"\n",
        "        Generalized Mean Pooling (GeM) layer for adaptive pooling.\n",
        "        Args:\n",
        "            p (float): Power parameter for pooling.\n",
        "            eps (float): Epsilon to avoid numerical instability.\n",
        "        \"\"\"\n",
        "        super(GeM, self).__init__()\n",
        "        self.p = nn.Parameter(torch.ones(1) * p)  # Learnable power parameter\n",
        "        self.eps = eps  # Epsilon to prevent division by zero\n",
        "\n",
        "    def forward(self, x):\n",
        "        \"\"\"\n",
        "        Forward pass for GeM pooling.\n",
        "        Args:\n",
        "            x (Tensor): Input tensor with shape (batch_size, channels, height, width).\n",
        "        Returns:\n",
        "            Tensor: Pooled tensor with shape (batch_size, channels, 1, 1).\n",
        "        \"\"\"\n",
        "        return self.gem(x, self.p, self.eps)\n",
        "\n",
        "    def gem(self, x, p=3, eps=1e-6):\n",
        "        \"\"\"\n",
        "        Apply GeM pooling to the input tensor.\n",
        "        Args:\n",
        "            x (Tensor): Input tensor.\n",
        "            p (float): Power parameter for pooling.\n",
        "            eps (float): Epsilon to avoid numerical instability.\n",
        "        Returns:\n",
        "            Tensor: Pooled tensor.\n",
        "        \"\"\"\n",
        "        return F.avg_pool2d(x.clamp(min=eps).pow(p), (x.size(-2), x.size(-1))).pow(1./p)\n",
        "\n",
        "    def __repr__(self):\n",
        "        \"\"\"\n",
        "        String representation of the GeM layer.\n",
        "        \"\"\"\n",
        "        return f\"{self.__class__.__name__}(p={self.p.data.tolist()[0]:.4f}, eps={self.eps})\""
      ],
      "metadata": {
        "id": "TJVwUvyw2PcJ"
      },
      "execution_count": null,
      "outputs": []
    },
    {
      "cell_type": "code",
      "source": [
        "# Example usage\n",
        "gem_layer = GeM(p=3.0, eps=1e-6)\n",
        "print(gem_layer)\n",
        "\n",
        "# Input tensor [B, C, H, W]\n",
        "x = torch.randn(8, 512, 7, 7)  # Example tensor\n",
        "\n",
        "# Apply GeM pooling\n",
        "output = gem_layer(x)\n",
        "print(\"Input shape:\", x.shape)\n",
        "print(\"Output shape:\", output.shape)\n"
      ],
      "metadata": {
        "colab": {
          "base_uri": "https://localhost:8080/"
        },
        "id": "aIORL1Yy2mwe",
        "outputId": "f9986014-f20a-466d-a209-01a23b728f15"
      },
      "execution_count": null,
      "outputs": [
        {
          "output_type": "stream",
          "name": "stdout",
          "text": [
            "GeM(p=3.0000, eps=1e-06)\n",
            "Input shape: torch.Size([8, 512, 7, 7])\n",
            "Output shape: torch.Size([8, 512, 1, 1])\n"
          ]
        }
      ]
    },
    {
      "cell_type": "markdown",
      "source": [
        "# ***Create a Model***"
      ],
      "metadata": {
        "id": "3MsItKGa2ual"
      }
    },
    {
      "cell_type": "code",
      "source": [
        "class ISICModel(nn.Module):\n",
        "    def __init__(self, model_name, num_classes=1, pretrained=True, checkpoint_path=None):\n",
        "        \"\"\"\n",
        "        A custom model for ISIC classification using a pretrained backbone and GeM pooling.\n",
        "\n",
        "        Args:\n",
        "            model_name (str): Name of the model backbone (e.g., 'tf_efficientnet_b0_ns').\n",
        "            num_classes (int): Number of output classes.\n",
        "            pretrained (bool): Whether to use a pretrained backbone.\n",
        "            checkpoint_path (str): Path to a checkpoint for the backbone. If None, default pretrained weights are used.\n",
        "        \"\"\"\n",
        "        super(ISICModel, self).__init__()\n",
        "\n",
        "        # Load pretrained backbone\n",
        "        self.model = timm.create_model(model_name, pretrained=pretrained)\n",
        "\n",
        "        # Load custom checkpoint if provided\n",
        "        if checkpoint_path:\n",
        "            print(f\"Loading checkpoint from: {checkpoint_path}\")\n",
        "            self.model.load_state_dict(torch.load(checkpoint_path, map_location=\"cpu\"))\n",
        "        else:\n",
        "            print(\"No checkpoint provided. Using default pretrained weights.\")\n",
        "\n",
        "        # Extract features and replace classifier\n",
        "        in_features = self.model.classifier.in_features\n",
        "        self.model.classifier = nn.Identity()\n",
        "        self.model.global_pool = nn.Identity()\n",
        "\n",
        "        # Add custom pooling and classifier head\n",
        "        self.pooling = GeM()\n",
        "        self.linear = nn.Linear(in_features, num_classes)\n",
        "        self.sigmoid = nn.Sigmoid()\n",
        "\n",
        "    def forward(self, images):\n",
        "        \"\"\"\n",
        "        Forward pass for the ISIC model.\n",
        "        Args:\n",
        "            images (Tensor): Input image tensor.\n",
        "        Returns:\n",
        "            Tensor: Output probabilities.\n",
        "        \"\"\"\n",
        "        # Extract features using the backbone\n",
        "        features = self.model(images)\n",
        "\n",
        "        # Apply GeM pooling and flatten features\n",
        "        pooled_features = self.pooling(features).flatten(1)\n",
        "\n",
        "        # Pass through linear layer and sigmoid activation\n",
        "        output = self.sigmoid(self.linear(pooled_features))\n",
        "        return output\n",
        "\n",
        "model = ISICModel(\n",
        "    model_name=CONFIG['model_name'],\n",
        "    num_classes=1,  # Binary classification\n",
        "    pretrained=True,\n",
        "    checkpoint_path=None  # Skip custom checkpoint\n",
        ")\n",
        "model.to(CONFIG['device']);\n"
      ],
      "metadata": {
        "colab": {
          "base_uri": "https://localhost:8080/"
        },
        "id": "g3WglkRh205P",
        "outputId": "b0aa3393-b7ce-41ad-f2a3-381833d966ad"
      },
      "execution_count": null,
      "outputs": [
        {
          "output_type": "stream",
          "name": "stdout",
          "text": [
            "No checkpoint provided. Using default pretrained weights.\n"
          ]
        }
      ]
    },
    {
      "cell_type": "code",
      "source": [
        "def criterion(outputs, targets):\n",
        "    \"\"\"\n",
        "    Computes Binary Cross-Entropy Loss for binary classification.\n",
        "\n",
        "    Args:\n",
        "        outputs (Tensor): Predicted probabilities from the model (values in range [0, 1]).\n",
        "        targets (Tensor): Ground truth labels (binary, 0 or 1).\n",
        "\n",
        "    Returns:\n",
        "        Tensor: Computed loss value.\n",
        "    \"\"\"\n",
        "    loss_fn = nn.BCELoss()  # Initialize Binary Cross-Entropy Loss\n",
        "    return loss_fn(outputs, targets)\n"
      ],
      "metadata": {
        "id": "Etgl1LD93cM_"
      },
      "execution_count": null,
      "outputs": []
    },
    {
      "cell_type": "markdown",
      "source": [
        "# ***Loss Function***"
      ],
      "metadata": {
        "id": "GdN1lWfD3xWW"
      }
    },
    {
      "cell_type": "code",
      "source": [
        "def criterion(outputs, targets):\n",
        "    \"\"\"\n",
        "    Computes the loss between model outputs and targets.\n",
        "    Args:\n",
        "        outputs (Tensor): Predicted outputs of shape [B, 1] (binary classification).\n",
        "        targets (Tensor): Ground truth labels of shape [B, 1].\n",
        "    Returns:\n",
        "        Tensor: Computed loss.\n",
        "    \"\"\"\n",
        "    return nn.BCEWithLogitsLoss()(outputs, targets)"
      ],
      "metadata": {
        "id": "t6UZ3p1x3w4u"
      },
      "execution_count": null,
      "outputs": []
    },
    {
      "cell_type": "markdown",
      "source": [
        "# ***Training Function***"
      ],
      "metadata": {
        "id": "F9GYVRbU35aE"
      }
    },
    {
      "cell_type": "code",
      "source": [
        "from torchmetrics.classification import BinaryAUROC\n",
        "from tqdm import tqdm\n",
        "import gc\n",
        "\n",
        "def train_one_epoch(model, optimizer, scheduler, dataloader, device, epoch):\n",
        "    \"\"\"\n",
        "    Trains the model for one epoch.\n",
        "\n",
        "    Args:\n",
        "        model (torch.nn.Module): The model to train.\n",
        "        optimizer (torch.optim.Optimizer): The optimizer used for training.\n",
        "        scheduler (torch.optim.lr_scheduler, optional): Learning rate scheduler.\n",
        "        dataloader (torch.utils.data.DataLoader): Dataloader for training data.\n",
        "        device (torch.device): Device for training (CPU or GPU).\n",
        "        epoch (int): Current epoch number.\n",
        "\n",
        "    Returns:\n",
        "        float: Average training loss for the epoch.\n",
        "        float: Average AUROC score for the epoch.\n",
        "    \"\"\"\n",
        "    model.train()\n",
        "\n",
        "    dataset_size = 0\n",
        "    running_loss = 0.0\n",
        "    running_auroc = 0.0\n",
        "\n",
        "    # Initialize AUROC metric\n",
        "    auroc_metric = BinaryAUROC().to(device)\n",
        "\n",
        "    # Progress bar\n",
        "    bar = tqdm(enumerate(dataloader), total=len(dataloader), desc=f\"Epoch {epoch}\")\n",
        "    for step, data in bar:\n",
        "        # Move data to device\n",
        "        images = data['image'].to(device, dtype=torch.float)\n",
        "        targets = data['target'].to(device, dtype=torch.float)\n",
        "\n",
        "        batch_size = images.size(0)\n",
        "\n",
        "        # Forward pass\n",
        "        outputs = model(images).squeeze()\n",
        "        loss = criterion(outputs, targets)\n",
        "\n",
        "        # Accumulate loss for gradient accumulation\n",
        "        loss = loss / CONFIG['n_accumulate']\n",
        "        loss.backward()\n",
        "\n",
        "        # Perform optimizer step after `n_accumulate` batches\n",
        "        if (step + 1) % CONFIG['n_accumulate'] == 0:\n",
        "            optimizer.step()\n",
        "            optimizer.zero_grad()  # Zero gradients\n",
        "\n",
        "            # Step scheduler if defined\n",
        "            if scheduler is not None:\n",
        "                scheduler.step()\n",
        "\n",
        "        # Update AUROC metric\n",
        "        auroc_metric.update(outputs.detach(), targets)\n",
        "\n",
        "        # Update running statistics\n",
        "        running_loss += (loss.item() * batch_size)\n",
        "        dataset_size += batch_size\n",
        "\n",
        "        # Calculate average loss and AUROC\n",
        "        epoch_loss = running_loss / dataset_size\n",
        "        epoch_auroc = auroc_metric.compute().item()\n",
        "\n",
        "        # Update progress bar\n",
        "        bar.set_postfix(Epoch=epoch, Train_Loss=epoch_loss, Train_AUROC=epoch_auroc,\n",
        "                        LR=optimizer.param_groups[0]['lr'])\n",
        "\n",
        "    # Collect garbage to free memory\n",
        "    gc.collect()\n",
        "\n",
        "    return epoch_loss, epoch_auroc"
      ],
      "metadata": {
        "id": "f7wQV-ak383F"
      },
      "execution_count": null,
      "outputs": []
    },
    {
      "cell_type": "markdown",
      "source": [
        "# ***Validation Function***"
      ],
      "metadata": {
        "id": "5T-x-4CQ4WCV"
      }
    },
    {
      "cell_type": "code",
      "source": [
        "@torch.inference_mode()\n",
        "def valid_one_epoch(model, dataloader, device, epoch):\n",
        "    \"\"\"\n",
        "    Validates the model for one epoch.\n",
        "\n",
        "    Args:\n",
        "        model (torch.nn.Module): The model to validate.\n",
        "        dataloader (torch.utils.data.DataLoader): Dataloader for validation data.\n",
        "        device (torch.device): Device for validation (CPU or GPU).\n",
        "        epoch (int): Current epoch number.\n",
        "\n",
        "    Returns:\n",
        "        float: Average validation loss for the epoch.\n",
        "        float: Average AUROC score for the epoch.\n",
        "    \"\"\"\n",
        "    model.eval()  # Set model to evaluation mode\n",
        "\n",
        "    dataset_size = 0\n",
        "    running_loss = 0.0\n",
        "    running_auroc = 0.0\n",
        "\n",
        "    # Initialize AUROC metric\n",
        "    auroc_metric = BinaryAUROC().to(device)\n",
        "\n",
        "    # Progress bar\n",
        "    bar = tqdm(enumerate(dataloader), total=len(dataloader), desc=f\"Validation Epoch {epoch}\")\n",
        "    for step, data in bar:\n",
        "        # Move data to device\n",
        "        images = data['image'].to(device, dtype=torch.float)\n",
        "        targets = data['target'].to(device, dtype=torch.float)\n",
        "\n",
        "        batch_size = images.size(0)\n",
        "\n",
        "        # Forward pass\n",
        "        outputs = model(images).squeeze()\n",
        "        loss = criterion(outputs, targets)\n",
        "\n",
        "        # Update AUROC metric\n",
        "        auroc_metric.update(outputs, targets)\n",
        "\n",
        "        # Update running statistics\n",
        "        running_loss += (loss.item() * batch_size)\n",
        "        dataset_size += batch_size\n",
        "\n",
        "        # Calculate average loss\n",
        "        epoch_loss = running_loss / dataset_size\n",
        "        epoch_auroc = auroc_metric.compute().item()\n",
        "\n",
        "        # Update progress bar\n",
        "        bar.set_postfix(Epoch=epoch, Valid_Loss=epoch_loss, Valid_AUROC=epoch_auroc)\n",
        "\n",
        "    # Free memory\n",
        "    gc.collect()\n",
        "\n",
        "    return epoch_loss, epoch_auroc\n"
      ],
      "metadata": {
        "id": "WGzOQOXO4ZRV"
      },
      "execution_count": null,
      "outputs": []
    },
    {
      "cell_type": "markdown",
      "source": [
        "# ***Run Training***"
      ],
      "metadata": {
        "id": "I2jC8BpY4g_m"
      }
    },
    {
      "cell_type": "code",
      "source": [
        "import time\n",
        "import copy\n",
        "import gc\n",
        "from collections import defaultdict\n",
        "\n",
        "def run_training(model, optimizer, scheduler, device, num_epochs):\n",
        "    \"\"\"\n",
        "    Runs the training and validation process over multiple epochs.\n",
        "\n",
        "    Args:\n",
        "        model (torch.nn.Module): Model to train.\n",
        "        optimizer (torch.optim.Optimizer): Optimizer for training.\n",
        "        scheduler (torch.optim.lr_scheduler, optional): Learning rate scheduler.\n",
        "        device (torch.device): Device for training (CPU or GPU).\n",
        "        num_epochs (int): Number of epochs to train.\n",
        "\n",
        "    Returns:\n",
        "        model (torch.nn.Module): The model with the best weights based on validation AUROC.\n",
        "        history (defaultdict): Dictionary containing training/validation metrics.\n",
        "    \"\"\"\n",
        "    # GPU Info\n",
        "    if torch.cuda.is_available():\n",
        "        print(\"[INFO] Using GPU: {}\\n\".format(torch.cuda.get_device_name()))\n",
        "\n",
        "    start_time = time.time()\n",
        "    best_model_wts = copy.deepcopy(model.state_dict())\n",
        "    best_epoch_auroc = -float('inf')  # Initialize as negative infinity\n",
        "    history = defaultdict(list)\n",
        "\n",
        "    for epoch in range(1, num_epochs + 1):\n",
        "        gc.collect()  # Free memory\n",
        "\n",
        "        # Training phase\n",
        "        train_epoch_loss, train_epoch_auroc = train_one_epoch(\n",
        "            model, optimizer, scheduler, dataloader=train_loader,\n",
        "            device=device, epoch=epoch\n",
        "        )\n",
        "\n",
        "        # Validation phase\n",
        "        val_epoch_loss, val_epoch_auroc = valid_one_epoch(\n",
        "            model, dataloader=valid_loader, device=device, epoch=epoch\n",
        "        )\n",
        "\n",
        "        # Log metrics\n",
        "        history['Train Loss'].append(train_epoch_loss)\n",
        "        history['Valid Loss'].append(val_epoch_loss)\n",
        "        history['Train AUROC'].append(train_epoch_auroc)\n",
        "        history['Valid AUROC'].append(val_epoch_auroc)\n",
        "        history['lr'].append(optimizer.param_groups[0]['lr'])\n",
        "\n",
        "        # Save the best model\n",
        "        if val_epoch_auroc > best_epoch_auroc:\n",
        "            print(f\"[INFO] Validation AUROC Improved ({best_epoch_auroc:.4f} ---> {val_epoch_auroc:.4f})\")\n",
        "            best_epoch_auroc = val_epoch_auroc\n",
        "            best_model_wts = copy.deepcopy(model.state_dict())\n",
        "\n",
        "            # Save model checkpoint\n",
        "            PATH = f\"AUROC{val_epoch_auroc:.4f}_Loss{val_epoch_loss:.4f}_epoch{epoch}.bin\"\n",
        "            torch.save(model.state_dict(), PATH)\n",
        "            print(f\"[INFO] Model Saved at {PATH}\")\n",
        "\n",
        "        print()\n",
        "\n",
        "    # Training complete\n",
        "    end_time = time.time()\n",
        "    elapsed_time = end_time - start_time\n",
        "    print(f\"Training complete in {elapsed_time // 3600:.0f}h {(elapsed_time % 3600) // 60:.0f}m {(elapsed_time % 60):.0f}s\")\n",
        "    print(f\"Best Validation AUROC: {best_epoch_auroc:.4f}\")\n",
        "\n",
        "    # Load best model weights\n",
        "    model.load_state_dict(best_model_wts)\n",
        "\n",
        "    return model, history\n"
      ],
      "metadata": {
        "id": "KwHW1kyU4kY4"
      },
      "execution_count": null,
      "outputs": []
    },
    {
      "cell_type": "code",
      "source": [
        "def fetch_scheduler(optimizer):\n",
        "    \"\"\"\n",
        "    Returns the learning rate scheduler based on the configuration.\n",
        "\n",
        "    Args:\n",
        "        optimizer (torch.optim.Optimizer): The optimizer for which the scheduler is configured.\n",
        "\n",
        "    Returns:\n",
        "        torch.optim.lr_scheduler: Configured learning rate scheduler or None.\n",
        "    \"\"\"\n",
        "    scheduler = None\n",
        "\n",
        "    if CONFIG['scheduler'] == 'CosineAnnealingLR':\n",
        "        scheduler = lr_scheduler.CosineAnnealingLR(\n",
        "            optimizer,\n",
        "            T_max=CONFIG['T_max'],  # Maximum number of iterations\n",
        "            eta_min=CONFIG['min_lr']  # Minimum learning rate\n",
        "        )\n",
        "    elif CONFIG['scheduler'] == 'CosineAnnealingWarmRestarts':\n",
        "        scheduler = lr_scheduler.CosineAnnealingWarmRestarts(\n",
        "            optimizer,\n",
        "            T_0=CONFIG.get('T_0', 10),  # Number of iterations for the first restart\n",
        "            eta_min=CONFIG['min_lr']  # Minimum learning rate\n",
        "        )\n",
        "    elif CONFIG['scheduler'] is None:\n",
        "        print(\"[INFO] No scheduler used.\")\n",
        "\n",
        "    return scheduler"
      ],
      "metadata": {
        "id": "vwQMVCzF4ze-"
      },
      "execution_count": null,
      "outputs": []
    },
    {
      "cell_type": "code",
      "source": [
        "def prepare_loaders(df, fold):\n",
        "    \"\"\"\n",
        "    Prepares the train and validation DataLoaders for a given fold.\n",
        "\n",
        "    Args:\n",
        "        df (pd.DataFrame): DataFrame containing dataset information, including kfold column.\n",
        "        fold (int): Fold number to use for validation.\n",
        "\n",
        "    Returns:\n",
        "        tuple: Train DataLoader and Validation DataLoader.\n",
        "    \"\"\"\n",
        "\n",
        "    # Split data into training and validation based on the fold\n",
        "    df_train = df[df.kfold != fold].reset_index(drop=False)\n",
        "    df_valid = df[df.kfold == fold].reset_index(drop=False)\n",
        "\n",
        "    # Create datasets\n",
        "    train_dataset = ISICDataset_for_Train(df_train, transforms=data_transforms[\"train\"])\n",
        "    valid_dataset = ISICDataset(df_valid, transforms=data_transforms[\"valid\"])\n",
        "\n",
        "    # Create DataLoaders\n",
        "    train_loader = DataLoader(\n",
        "        train_dataset,\n",
        "        batch_size=CONFIG['train_batch_size'],\n",
        "        num_workers=2,  # Adjust for your system\n",
        "        shuffle=True,\n",
        "        pin_memory=torch.cuda.is_available(),  # Use pinned memory for GPU\n",
        "        drop_last=False  # Ensure batch consistency\n",
        "    )\n",
        "\n",
        "    valid_loader = DataLoader(\n",
        "        valid_dataset,\n",
        "        batch_size=CONFIG['valid_batch_size'],\n",
        "        num_workers=2,  # Adjust for your system\n",
        "        shuffle=False,\n",
        "        pin_memory=torch.cuda.is_available()  # Use pinned memory for GPU\n",
        "    )\n",
        "\n",
        "    return train_loader, valid_loader"
      ],
      "metadata": {
        "id": "eow_Gyb343p4"
      },
      "execution_count": null,
      "outputs": []
    },
    {
      "cell_type": "code",
      "source": [
        "train_loader, valid_loader = prepare_loaders(df, fold=CONFIG[\"fold\"])\n"
      ],
      "metadata": {
        "id": "4NNy-G8c5F32"
      },
      "execution_count": null,
      "outputs": []
    },
    {
      "cell_type": "markdown",
      "source": [
        "# ***Define Optimizer and Scheduler***"
      ],
      "metadata": {
        "id": "pI9JK5nuA9ve"
      }
    },
    {
      "cell_type": "code",
      "source": [
        "from torch.optim import Adam\n",
        "from torch.optim import lr_scheduler\n",
        "\n",
        "# Define Optimizer\n",
        "optimizer = Adam(\n",
        "    model.parameters(),\n",
        "    lr=CONFIG['learning_rate'],\n",
        "    weight_decay=CONFIG['weight_decay']\n",
        ")\n",
        "\n",
        "# Fetch Scheduler\n",
        "scheduler = fetch_scheduler(optimizer)\n"
      ],
      "metadata": {
        "id": "0wcsua4nBCgX"
      },
      "execution_count": null,
      "outputs": []
    },
    {
      "cell_type": "markdown",
      "source": [
        "# ***Checklist Before Starting Training***"
      ],
      "metadata": {
        "id": "_h5XFIgpBNeP"
      }
    },
    {
      "cell_type": "code",
      "source": [
        "print(f\"Model initialized on: {CONFIG['device']}\")\n"
      ],
      "metadata": {
        "colab": {
          "base_uri": "https://localhost:8080/"
        },
        "id": "46-wW9esBS74",
        "outputId": "df16f202-e09f-47c6-878d-541efd775918"
      },
      "execution_count": null,
      "outputs": [
        {
          "output_type": "stream",
          "name": "stdout",
          "text": [
            "Model initialized on: cuda:0\n"
          ]
        }
      ]
    },
    {
      "cell_type": "code",
      "source": [
        "print(f\"Training with {CONFIG['epochs']} epochs, batch size {CONFIG['train_batch_size']}, learning rate {CONFIG['learning_rate']}\")\n"
      ],
      "metadata": {
        "colab": {
          "base_uri": "https://localhost:8080/"
        },
        "id": "9PSLnXypBZbo",
        "outputId": "d87484c7-e070-4bc4-b307-102aefd764cd"
      },
      "execution_count": null,
      "outputs": [
        {
          "output_type": "stream",
          "name": "stdout",
          "text": [
            "Training with 50 epochs, batch size 32, learning rate 0.0001\n"
          ]
        }
      ]
    },
    {
      "cell_type": "code",
      "source": [
        "if scheduler:\n",
        "    print(f\"Scheduler: {CONFIG['scheduler']} is initialized with T_max={CONFIG.get('T_max', None)}\")\n"
      ],
      "metadata": {
        "colab": {
          "base_uri": "https://localhost:8080/"
        },
        "id": "I97C3w57BcSK",
        "outputId": "9d454e57-665b-4f8c-8d43-911bd0d2abfd"
      },
      "execution_count": null,
      "outputs": [
        {
          "output_type": "stream",
          "name": "stdout",
          "text": [
            "Scheduler: CosineAnnealingLR is initialized with T_max=5446\n"
          ]
        }
      ]
    },
    {
      "cell_type": "markdown",
      "source": [
        "# ***Training Start***"
      ],
      "metadata": {
        "id": "iM0Ztz57Bh_g"
      }
    },
    {
      "cell_type": "code",
      "source": [
        "model, history = run_training(\n",
        "    model=model,\n",
        "    optimizer=optimizer,\n",
        "    scheduler=scheduler,\n",
        "    device=CONFIG['device'],\n",
        "    num_epochs=CONFIG['epochs']\n",
        ")\n"
      ],
      "metadata": {
        "colab": {
          "base_uri": "https://localhost:8080/"
        },
        "id": "v1bdDPdNBhkY",
        "outputId": "448b2806-dae1-46ee-9a8a-52573bb48458"
      },
      "execution_count": null,
      "outputs": [
        {
          "output_type": "stream",
          "name": "stdout",
          "text": [
            "[INFO] Using GPU: Tesla T4\n",
            "\n"
          ]
        },
        {
          "output_type": "stream",
          "name": "stderr",
          "text": [
            "Epoch 1: 100%|██████████| 4/4 [00:03<00:00,  1.13it/s, Epoch=1, LR=0.0001, Train_AUROC=0.485, Train_Loss=0.752]\n",
            "Validation Epoch 1: 100%|██████████| 14/14 [00:13<00:00,  1.04it/s, Epoch=1, Valid_AUROC=0.564, Valid_Loss=1.01]\n"
          ]
        },
        {
          "output_type": "stream",
          "name": "stdout",
          "text": [
            "[INFO] Validation AUROC Improved (-inf ---> 0.5639)\n",
            "[INFO] Model Saved at AUROC0.5639_Loss1.0122_epoch1.bin\n",
            "\n"
          ]
        },
        {
          "output_type": "stream",
          "name": "stderr",
          "text": [
            "Epoch 2: 100%|██████████| 4/4 [00:03<00:00,  1.19it/s, Epoch=2, LR=0.0001, Train_AUROC=0.613, Train_Loss=0.697]\n",
            "Validation Epoch 2: 100%|██████████| 14/14 [00:10<00:00,  1.33it/s, Epoch=2, Valid_AUROC=0.522, Valid_Loss=0.862]\n"
          ]
        },
        {
          "output_type": "stream",
          "name": "stdout",
          "text": [
            "\n"
          ]
        },
        {
          "output_type": "stream",
          "name": "stderr",
          "text": [
            "Epoch 3: 100%|██████████| 4/4 [00:03<00:00,  1.05it/s, Epoch=3, LR=0.0001, Train_AUROC=0.719, Train_Loss=0.677]\n",
            "Validation Epoch 3: 100%|██████████| 14/14 [00:07<00:00,  1.76it/s, Epoch=3, Valid_AUROC=0.583, Valid_Loss=0.794]\n"
          ]
        },
        {
          "output_type": "stream",
          "name": "stdout",
          "text": [
            "[INFO] Validation AUROC Improved (0.5639 ---> 0.5833)\n",
            "[INFO] Model Saved at AUROC0.5833_Loss0.7936_epoch3.bin\n",
            "\n"
          ]
        },
        {
          "output_type": "stream",
          "name": "stderr",
          "text": [
            "Epoch 4: 100%|██████████| 4/4 [00:04<00:00,  1.08s/it, Epoch=4, LR=0.0001, Train_AUROC=0.682, Train_Loss=0.683]\n",
            "Validation Epoch 4: 100%|██████████| 14/14 [00:08<00:00,  1.66it/s, Epoch=4, Valid_AUROC=0.621, Valid_Loss=0.769]\n"
          ]
        },
        {
          "output_type": "stream",
          "name": "stdout",
          "text": [
            "[INFO] Validation AUROC Improved (0.5833 ---> 0.6209)\n",
            "[INFO] Model Saved at AUROC0.6209_Loss0.7691_epoch4.bin\n",
            "\n"
          ]
        },
        {
          "output_type": "stream",
          "name": "stderr",
          "text": [
            "Epoch 5: 100%|██████████| 4/4 [00:03<00:00,  1.01it/s, Epoch=5, LR=0.0001, Train_AUROC=0.748, Train_Loss=0.673]\n",
            "Validation Epoch 5: 100%|██████████| 14/14 [00:12<00:00,  1.15it/s, Epoch=5, Valid_AUROC=0.629, Valid_Loss=0.781]\n"
          ]
        },
        {
          "output_type": "stream",
          "name": "stdout",
          "text": [
            "[INFO] Validation AUROC Improved (0.6209 ---> 0.6293)\n",
            "[INFO] Model Saved at AUROC0.6293_Loss0.7814_epoch5.bin\n",
            "\n"
          ]
        },
        {
          "output_type": "stream",
          "name": "stderr",
          "text": [
            "Epoch 6: 100%|██████████| 4/4 [00:04<00:00,  1.06s/it, Epoch=6, LR=0.0001, Train_AUROC=0.755, Train_Loss=0.654]\n",
            "Validation Epoch 6: 100%|██████████| 14/14 [00:10<00:00,  1.31it/s, Epoch=6, Valid_AUROC=0.584, Valid_Loss=0.839]\n"
          ]
        },
        {
          "output_type": "stream",
          "name": "stdout",
          "text": [
            "\n"
          ]
        },
        {
          "output_type": "stream",
          "name": "stderr",
          "text": [
            "Epoch 7: 100%|██████████| 4/4 [00:04<00:00,  1.02s/it, Epoch=7, LR=0.0001, Train_AUROC=0.817, Train_Loss=0.667]\n",
            "Validation Epoch 7: 100%|██████████| 14/14 [00:08<00:00,  1.61it/s, Epoch=7, Valid_AUROC=0.536, Valid_Loss=0.883]\n"
          ]
        },
        {
          "output_type": "stream",
          "name": "stdout",
          "text": [
            "\n"
          ]
        },
        {
          "output_type": "stream",
          "name": "stderr",
          "text": [
            "Epoch 8: 100%|██████████| 4/4 [00:03<00:00,  1.19it/s, Epoch=8, LR=0.0001, Train_AUROC=0.842, Train_Loss=0.658]\n",
            "Validation Epoch 8: 100%|██████████| 14/14 [00:10<00:00,  1.28it/s, Epoch=8, Valid_AUROC=0.562, Valid_Loss=0.902]\n"
          ]
        },
        {
          "output_type": "stream",
          "name": "stdout",
          "text": [
            "\n"
          ]
        },
        {
          "output_type": "stream",
          "name": "stderr",
          "text": [
            "Epoch 9: 100%|██████████| 4/4 [00:03<00:00,  1.33it/s, Epoch=9, LR=0.0001, Train_AUROC=0.812, Train_Loss=0.665]\n",
            "Validation Epoch 9: 100%|██████████| 14/14 [00:13<00:00,  1.06it/s, Epoch=9, Valid_AUROC=0.591, Valid_Loss=0.89]\n"
          ]
        },
        {
          "output_type": "stream",
          "name": "stdout",
          "text": [
            "\n"
          ]
        },
        {
          "output_type": "stream",
          "name": "stderr",
          "text": [
            "Epoch 10: 100%|██████████| 4/4 [00:03<00:00,  1.32it/s, Epoch=10, LR=0.0001, Train_AUROC=0.878, Train_Loss=0.612]\n",
            "Validation Epoch 10: 100%|██████████| 14/14 [00:11<00:00,  1.26it/s, Epoch=10, Valid_AUROC=0.621, Valid_Loss=0.877]\n"
          ]
        },
        {
          "output_type": "stream",
          "name": "stdout",
          "text": [
            "\n"
          ]
        },
        {
          "output_type": "stream",
          "name": "stderr",
          "text": [
            "Epoch 11: 100%|██████████| 4/4 [00:02<00:00,  1.35it/s, Epoch=11, LR=0.0001, Train_AUROC=0.847, Train_Loss=0.649]\n",
            "Validation Epoch 11: 100%|██████████| 14/14 [00:09<00:00,  1.47it/s, Epoch=11, Valid_AUROC=0.659, Valid_Loss=0.848]\n"
          ]
        },
        {
          "output_type": "stream",
          "name": "stdout",
          "text": [
            "[INFO] Validation AUROC Improved (0.6293 ---> 0.6586)\n",
            "[INFO] Model Saved at AUROC0.6586_Loss0.8477_epoch11.bin\n",
            "\n"
          ]
        },
        {
          "output_type": "stream",
          "name": "stderr",
          "text": [
            "Epoch 12: 100%|██████████| 4/4 [00:05<00:00,  1.37s/it, Epoch=12, LR=0.0001, Train_AUROC=0.896, Train_Loss=0.608]\n",
            "Validation Epoch 12: 100%|██████████| 14/14 [00:08<00:00,  1.68it/s, Epoch=12, Valid_AUROC=0.664, Valid_Loss=0.826]\n"
          ]
        },
        {
          "output_type": "stream",
          "name": "stdout",
          "text": [
            "[INFO] Validation AUROC Improved (0.6586 ---> 0.6638)\n",
            "[INFO] Model Saved at AUROC0.6638_Loss0.8258_epoch12.bin\n",
            "\n"
          ]
        },
        {
          "output_type": "stream",
          "name": "stderr",
          "text": [
            "Epoch 13: 100%|██████████| 4/4 [00:04<00:00,  1.03s/it, Epoch=13, LR=0.0001, Train_AUROC=0.858, Train_Loss=0.633]\n",
            "Validation Epoch 13: 100%|██████████| 14/14 [00:09<00:00,  1.50it/s, Epoch=13, Valid_AUROC=0.678, Valid_Loss=0.819]\n"
          ]
        },
        {
          "output_type": "stream",
          "name": "stdout",
          "text": [
            "[INFO] Validation AUROC Improved (0.6638 ---> 0.6776)\n",
            "[INFO] Model Saved at AUROC0.6776_Loss0.8194_epoch13.bin\n",
            "\n"
          ]
        },
        {
          "output_type": "stream",
          "name": "stderr",
          "text": [
            "Epoch 14: 100%|██████████| 4/4 [00:03<00:00,  1.03it/s, Epoch=14, LR=0.0001, Train_AUROC=0.923, Train_Loss=0.585]\n",
            "Validation Epoch 14: 100%|██████████| 14/14 [00:09<00:00,  1.43it/s, Epoch=14, Valid_AUROC=0.693, Valid_Loss=0.81]\n"
          ]
        },
        {
          "output_type": "stream",
          "name": "stdout",
          "text": [
            "[INFO] Validation AUROC Improved (0.6776 ---> 0.6931)\n",
            "[INFO] Model Saved at AUROC0.6931_Loss0.8101_epoch14.bin\n",
            "\n"
          ]
        },
        {
          "output_type": "stream",
          "name": "stderr",
          "text": [
            "Epoch 15: 100%|██████████| 4/4 [00:03<00:00,  1.30it/s, Epoch=15, LR=0.0001, Train_AUROC=0.943, Train_Loss=0.566]\n",
            "Validation Epoch 15: 100%|██████████| 14/14 [00:12<00:00,  1.14it/s, Epoch=15, Valid_AUROC=0.717, Valid_Loss=0.812]\n"
          ]
        },
        {
          "output_type": "stream",
          "name": "stdout",
          "text": [
            "[INFO] Validation AUROC Improved (0.6931 ---> 0.7166)\n",
            "[INFO] Model Saved at AUROC0.7166_Loss0.8124_epoch15.bin\n",
            "\n"
          ]
        },
        {
          "output_type": "stream",
          "name": "stderr",
          "text": [
            "Epoch 16: 100%|██████████| 4/4 [00:02<00:00,  1.35it/s, Epoch=16, LR=0.0001, Train_AUROC=0.919, Train_Loss=0.578]\n",
            "Validation Epoch 16: 100%|██████████| 14/14 [00:12<00:00,  1.11it/s, Epoch=16, Valid_AUROC=0.733, Valid_Loss=0.825]\n"
          ]
        },
        {
          "output_type": "stream",
          "name": "stdout",
          "text": [
            "[INFO] Validation AUROC Improved (0.7166 ---> 0.7326)\n",
            "[INFO] Model Saved at AUROC0.7326_Loss0.8255_epoch16.bin\n",
            "\n"
          ]
        },
        {
          "output_type": "stream",
          "name": "stderr",
          "text": [
            "Epoch 17: 100%|██████████| 4/4 [00:02<00:00,  1.39it/s, Epoch=17, LR=0.0001, Train_AUROC=0.945, Train_Loss=0.567]\n",
            "Validation Epoch 17: 100%|██████████| 14/14 [00:10<00:00,  1.35it/s, Epoch=17, Valid_AUROC=0.754, Valid_Loss=0.846]\n"
          ]
        },
        {
          "output_type": "stream",
          "name": "stdout",
          "text": [
            "[INFO] Validation AUROC Improved (0.7326 ---> 0.7537)\n",
            "[INFO] Model Saved at AUROC0.7537_Loss0.8463_epoch17.bin\n",
            "\n"
          ]
        },
        {
          "output_type": "stream",
          "name": "stderr",
          "text": [
            "Epoch 18: 100%|██████████| 4/4 [00:03<00:00,  1.03it/s, Epoch=18, LR=0.0001, Train_AUROC=0.913, Train_Loss=0.622]\n",
            "Validation Epoch 18: 100%|██████████| 14/14 [00:10<00:00,  1.28it/s, Epoch=18, Valid_AUROC=0.758, Valid_Loss=0.849]\n"
          ]
        },
        {
          "output_type": "stream",
          "name": "stdout",
          "text": [
            "[INFO] Validation AUROC Improved (0.7537 ---> 0.7582)\n",
            "[INFO] Model Saved at AUROC0.7582_Loss0.8494_epoch18.bin\n",
            "\n"
          ]
        },
        {
          "output_type": "stream",
          "name": "stderr",
          "text": [
            "Epoch 19: 100%|██████████| 4/4 [00:03<00:00,  1.01it/s, Epoch=19, LR=0.0001, Train_AUROC=0.945, Train_Loss=0.547]\n",
            "Validation Epoch 19: 100%|██████████| 14/14 [00:08<00:00,  1.56it/s, Epoch=19, Valid_AUROC=0.77, Valid_Loss=0.816]\n"
          ]
        },
        {
          "output_type": "stream",
          "name": "stdout",
          "text": [
            "[INFO] Validation AUROC Improved (0.7582 ---> 0.7698)\n",
            "[INFO] Model Saved at AUROC0.7698_Loss0.8159_epoch19.bin\n",
            "\n"
          ]
        },
        {
          "output_type": "stream",
          "name": "stderr",
          "text": [
            "Epoch 20: 100%|██████████| 4/4 [00:04<00:00,  1.05s/it, Epoch=20, LR=9.99e-5, Train_AUROC=0.934, Train_Loss=0.561]\n",
            "Validation Epoch 20: 100%|██████████| 14/14 [00:08<00:00,  1.66it/s, Epoch=20, Valid_AUROC=0.767, Valid_Loss=0.809]\n"
          ]
        },
        {
          "output_type": "stream",
          "name": "stdout",
          "text": [
            "\n"
          ]
        },
        {
          "output_type": "stream",
          "name": "stderr",
          "text": [
            "Epoch 21: 100%|██████████| 4/4 [00:03<00:00,  1.21it/s, Epoch=21, LR=9.99e-5, Train_AUROC=0.947, Train_Loss=0.57]\n",
            "Validation Epoch 21: 100%|██████████| 14/14 [00:11<00:00,  1.27it/s, Epoch=21, Valid_AUROC=0.771, Valid_Loss=0.79]\n"
          ]
        },
        {
          "output_type": "stream",
          "name": "stdout",
          "text": [
            "[INFO] Validation AUROC Improved (0.7698 ---> 0.7707)\n",
            "[INFO] Model Saved at AUROC0.7707_Loss0.7901_epoch21.bin\n",
            "\n"
          ]
        },
        {
          "output_type": "stream",
          "name": "stderr",
          "text": [
            "Epoch 22: 100%|██████████| 4/4 [00:03<00:00,  1.32it/s, Epoch=22, LR=9.99e-5, Train_AUROC=0.944, Train_Loss=0.572]\n",
            "Validation Epoch 22: 100%|██████████| 14/14 [00:13<00:00,  1.01it/s, Epoch=22, Valid_AUROC=0.761, Valid_Loss=0.796]\n"
          ]
        },
        {
          "output_type": "stream",
          "name": "stdout",
          "text": [
            "\n"
          ]
        },
        {
          "output_type": "stream",
          "name": "stderr",
          "text": [
            "Epoch 23: 100%|██████████| 4/4 [00:02<00:00,  1.36it/s, Epoch=23, LR=9.99e-5, Train_AUROC=0.925, Train_Loss=0.585]\n",
            "Validation Epoch 23: 100%|██████████| 14/14 [00:11<00:00,  1.24it/s, Epoch=23, Valid_AUROC=0.761, Valid_Loss=0.784]\n"
          ]
        },
        {
          "output_type": "stream",
          "name": "stdout",
          "text": [
            "\n"
          ]
        },
        {
          "output_type": "stream",
          "name": "stderr",
          "text": [
            "Epoch 24: 100%|██████████| 4/4 [00:02<00:00,  1.33it/s, Epoch=24, LR=9.99e-5, Train_AUROC=0.929, Train_Loss=0.57]\n",
            "Validation Epoch 24: 100%|██████████| 14/14 [00:09<00:00,  1.54it/s, Epoch=24, Valid_AUROC=0.766, Valid_Loss=0.785]\n"
          ]
        },
        {
          "output_type": "stream",
          "name": "stdout",
          "text": [
            "\n"
          ]
        },
        {
          "output_type": "stream",
          "name": "stderr",
          "text": [
            "Epoch 25: 100%|██████████| 4/4 [00:04<00:00,  1.07s/it, Epoch=25, LR=9.99e-5, Train_AUROC=0.928, Train_Loss=0.58]\n",
            "Validation Epoch 25: 100%|██████████| 14/14 [00:08<00:00,  1.66it/s, Epoch=25, Valid_AUROC=0.771, Valid_Loss=0.785]\n"
          ]
        },
        {
          "output_type": "stream",
          "name": "stdout",
          "text": [
            "\n"
          ]
        },
        {
          "output_type": "stream",
          "name": "stderr",
          "text": [
            "Epoch 26: 100%|██████████| 4/4 [00:04<00:00,  1.07s/it, Epoch=26, LR=9.99e-5, Train_AUROC=0.968, Train_Loss=0.53]\n",
            "Validation Epoch 26: 100%|██████████| 14/14 [00:10<00:00,  1.37it/s, Epoch=26, Valid_AUROC=0.772, Valid_Loss=0.779]\n"
          ]
        },
        {
          "output_type": "stream",
          "name": "stdout",
          "text": [
            "[INFO] Validation AUROC Improved (0.7707 ---> 0.7716)\n",
            "[INFO] Model Saved at AUROC0.7716_Loss0.7790_epoch26.bin\n",
            "\n"
          ]
        },
        {
          "output_type": "stream",
          "name": "stderr",
          "text": [
            "Epoch 27: 100%|██████████| 4/4 [00:02<00:00,  1.39it/s, Epoch=27, LR=9.99e-5, Train_AUROC=0.953, Train_Loss=0.534]\n",
            "Validation Epoch 27: 100%|██████████| 14/14 [00:12<00:00,  1.09it/s, Epoch=27, Valid_AUROC=0.773, Valid_Loss=0.796]\n"
          ]
        },
        {
          "output_type": "stream",
          "name": "stdout",
          "text": [
            "[INFO] Validation AUROC Improved (0.7716 ---> 0.7729)\n",
            "[INFO] Model Saved at AUROC0.7729_Loss0.7955_epoch27.bin\n",
            "\n"
          ]
        },
        {
          "output_type": "stream",
          "name": "stderr",
          "text": [
            "Epoch 28: 100%|██████████| 4/4 [00:02<00:00,  1.37it/s, Epoch=28, LR=9.99e-5, Train_AUROC=0.977, Train_Loss=0.55]\n",
            "Validation Epoch 28: 100%|██████████| 14/14 [00:13<00:00,  1.05it/s, Epoch=28, Valid_AUROC=0.774, Valid_Loss=0.815]\n"
          ]
        },
        {
          "output_type": "stream",
          "name": "stdout",
          "text": [
            "[INFO] Validation AUROC Improved (0.7729 ---> 0.7745)\n",
            "[INFO] Model Saved at AUROC0.7745_Loss0.8146_epoch28.bin\n",
            "\n"
          ]
        },
        {
          "output_type": "stream",
          "name": "stderr",
          "text": [
            "Epoch 29: 100%|██████████| 4/4 [00:02<00:00,  1.35it/s, Epoch=29, LR=9.99e-5, Train_AUROC=0.946, Train_Loss=0.534]\n",
            "Validation Epoch 29: 100%|██████████| 14/14 [00:13<00:00,  1.07it/s, Epoch=29, Valid_AUROC=0.772, Valid_Loss=0.824]\n"
          ]
        },
        {
          "output_type": "stream",
          "name": "stdout",
          "text": [
            "\n"
          ]
        },
        {
          "output_type": "stream",
          "name": "stderr",
          "text": [
            "Epoch 30: 100%|██████████| 4/4 [00:03<00:00,  1.32it/s, Epoch=30, LR=9.99e-5, Train_AUROC=0.971, Train_Loss=0.5]\n",
            "Validation Epoch 30: 100%|██████████| 14/14 [00:09<00:00,  1.53it/s, Epoch=30, Valid_AUROC=0.776, Valid_Loss=0.814]\n"
          ]
        },
        {
          "output_type": "stream",
          "name": "stdout",
          "text": [
            "[INFO] Validation AUROC Improved (0.7745 ---> 0.7756)\n",
            "[INFO] Model Saved at AUROC0.7756_Loss0.8139_epoch30.bin\n",
            "\n"
          ]
        },
        {
          "output_type": "stream",
          "name": "stderr",
          "text": [
            "Epoch 31: 100%|██████████| 4/4 [00:04<00:00,  1.06s/it, Epoch=31, LR=9.99e-5, Train_AUROC=0.986, Train_Loss=0.531]\n",
            "Validation Epoch 31: 100%|██████████| 14/14 [00:09<00:00,  1.53it/s, Epoch=31, Valid_AUROC=0.783, Valid_Loss=0.812]\n"
          ]
        },
        {
          "output_type": "stream",
          "name": "stdout",
          "text": [
            "[INFO] Validation AUROC Improved (0.7756 ---> 0.7832)\n",
            "[INFO] Model Saved at AUROC0.7832_Loss0.8117_epoch31.bin\n",
            "\n"
          ]
        },
        {
          "output_type": "stream",
          "name": "stderr",
          "text": [
            "Epoch 32: 100%|██████████| 4/4 [00:04<00:00,  1.06s/it, Epoch=32, LR=9.99e-5, Train_AUROC=0.969, Train_Loss=0.536]\n",
            "Validation Epoch 32: 100%|██████████| 14/14 [00:09<00:00,  1.44it/s, Epoch=32, Valid_AUROC=0.787, Valid_Loss=0.796]\n"
          ]
        },
        {
          "output_type": "stream",
          "name": "stdout",
          "text": [
            "[INFO] Validation AUROC Improved (0.7832 ---> 0.7868)\n",
            "[INFO] Model Saved at AUROC0.7868_Loss0.7955_epoch32.bin\n",
            "\n"
          ]
        },
        {
          "output_type": "stream",
          "name": "stderr",
          "text": [
            "Epoch 33: 100%|██████████| 4/4 [00:04<00:00,  1.05s/it, Epoch=33, LR=9.99e-5, Train_AUROC=0.964, Train_Loss=0.519]\n",
            "Validation Epoch 33: 100%|██████████| 14/14 [00:10<00:00,  1.33it/s, Epoch=33, Valid_AUROC=0.785, Valid_Loss=0.776]\n"
          ]
        },
        {
          "output_type": "stream",
          "name": "stdout",
          "text": [
            "\n"
          ]
        },
        {
          "output_type": "stream",
          "name": "stderr",
          "text": [
            "Epoch 34: 100%|██████████| 4/4 [00:03<00:00,  1.02it/s, Epoch=34, LR=9.98e-5, Train_AUROC=0.98, Train_Loss=0.509]\n",
            "Validation Epoch 34: 100%|██████████| 14/14 [00:10<00:00,  1.39it/s, Epoch=34, Valid_AUROC=0.785, Valid_Loss=0.773]\n"
          ]
        },
        {
          "output_type": "stream",
          "name": "stdout",
          "text": [
            "\n"
          ]
        },
        {
          "output_type": "stream",
          "name": "stderr",
          "text": [
            "Epoch 35: 100%|██████████| 4/4 [00:02<00:00,  1.37it/s, Epoch=35, LR=9.98e-5, Train_AUROC=0.952, Train_Loss=0.581]\n",
            "Validation Epoch 35: 100%|██████████| 14/14 [00:13<00:00,  1.05it/s, Epoch=35, Valid_AUROC=0.792, Valid_Loss=0.792]\n"
          ]
        },
        {
          "output_type": "stream",
          "name": "stdout",
          "text": [
            "[INFO] Validation AUROC Improved (0.7868 ---> 0.7922)\n",
            "[INFO] Model Saved at AUROC0.7922_Loss0.7919_epoch35.bin\n",
            "\n"
          ]
        },
        {
          "output_type": "stream",
          "name": "stderr",
          "text": [
            "Epoch 36: 100%|██████████| 4/4 [00:03<00:00,  1.32it/s, Epoch=36, LR=9.98e-5, Train_AUROC=0.951, Train_Loss=0.511]\n",
            "Validation Epoch 36: 100%|██████████| 14/14 [00:13<00:00,  1.02it/s, Epoch=36, Valid_AUROC=0.794, Valid_Loss=0.778]\n"
          ]
        },
        {
          "output_type": "stream",
          "name": "stdout",
          "text": [
            "[INFO] Validation AUROC Improved (0.7922 ---> 0.7941)\n",
            "[INFO] Model Saved at AUROC0.7941_Loss0.7779_epoch36.bin\n",
            "\n"
          ]
        },
        {
          "output_type": "stream",
          "name": "stderr",
          "text": [
            "Epoch 37: 100%|██████████| 4/4 [00:02<00:00,  1.34it/s, Epoch=37, LR=9.98e-5, Train_AUROC=0.975, Train_Loss=0.54]\n",
            "Validation Epoch 37: 100%|██████████| 14/14 [00:09<00:00,  1.43it/s, Epoch=37, Valid_AUROC=0.793, Valid_Loss=0.776]\n"
          ]
        },
        {
          "output_type": "stream",
          "name": "stdout",
          "text": [
            "\n"
          ]
        },
        {
          "output_type": "stream",
          "name": "stderr",
          "text": [
            "Epoch 38: 100%|██████████| 4/4 [00:03<00:00,  1.19it/s, Epoch=38, LR=9.98e-5, Train_AUROC=0.979, Train_Loss=0.523]\n",
            "Validation Epoch 38: 100%|██████████| 14/14 [00:13<00:00,  1.06it/s, Epoch=38, Valid_AUROC=0.792, Valid_Loss=0.767]\n"
          ]
        },
        {
          "output_type": "stream",
          "name": "stdout",
          "text": [
            "\n"
          ]
        },
        {
          "output_type": "stream",
          "name": "stderr",
          "text": [
            "Epoch 39: 100%|██████████| 4/4 [00:03<00:00,  1.10it/s, Epoch=39, LR=9.98e-5, Train_AUROC=0.961, Train_Loss=0.569]\n",
            "Validation Epoch 39: 100%|██████████| 14/14 [00:08<00:00,  1.59it/s, Epoch=39, Valid_AUROC=0.787, Valid_Loss=0.766]\n"
          ]
        },
        {
          "output_type": "stream",
          "name": "stdout",
          "text": [
            "\n"
          ]
        },
        {
          "output_type": "stream",
          "name": "stderr",
          "text": [
            "Epoch 40: 100%|██████████| 4/4 [00:04<00:00,  1.09s/it, Epoch=40, LR=9.98e-5, Train_AUROC=0.962, Train_Loss=0.553]\n",
            "Validation Epoch 40: 100%|██████████| 14/14 [00:09<00:00,  1.50it/s, Epoch=40, Valid_AUROC=0.794, Valid_Loss=0.754]\n"
          ]
        },
        {
          "output_type": "stream",
          "name": "stdout",
          "text": [
            "[INFO] Validation AUROC Improved (0.7941 ---> 0.7943)\n",
            "[INFO] Model Saved at AUROC0.7943_Loss0.7543_epoch40.bin\n",
            "\n"
          ]
        },
        {
          "output_type": "stream",
          "name": "stderr",
          "text": [
            "Epoch 41: 100%|██████████| 4/4 [00:04<00:00,  1.04s/it, Epoch=41, LR=9.98e-5, Train_AUROC=0.98, Train_Loss=0.536]\n",
            "Validation Epoch 41: 100%|██████████| 14/14 [00:08<00:00,  1.66it/s, Epoch=41, Valid_AUROC=0.81, Valid_Loss=0.74]\n"
          ]
        },
        {
          "output_type": "stream",
          "name": "stdout",
          "text": [
            "[INFO] Validation AUROC Improved (0.7943 ---> 0.8104)\n",
            "[INFO] Model Saved at AUROC0.8104_Loss0.7398_epoch41.bin\n",
            "\n"
          ]
        },
        {
          "output_type": "stream",
          "name": "stderr",
          "text": [
            "Epoch 42: 100%|██████████| 4/4 [00:03<00:00,  1.19it/s, Epoch=42, LR=9.98e-5, Train_AUROC=0.988, Train_Loss=0.511]\n",
            "Validation Epoch 42: 100%|██████████| 14/14 [00:11<00:00,  1.24it/s, Epoch=42, Valid_AUROC=0.818, Valid_Loss=0.734]\n"
          ]
        },
        {
          "output_type": "stream",
          "name": "stdout",
          "text": [
            "[INFO] Validation AUROC Improved (0.8104 ---> 0.8181)\n",
            "[INFO] Model Saved at AUROC0.8181_Loss0.7338_epoch42.bin\n",
            "\n"
          ]
        },
        {
          "output_type": "stream",
          "name": "stderr",
          "text": [
            "Epoch 43: 100%|██████████| 4/4 [00:03<00:00,  1.32it/s, Epoch=43, LR=9.98e-5, Train_AUROC=0.975, Train_Loss=0.522]\n",
            "Validation Epoch 43: 100%|██████████| 14/14 [00:11<00:00,  1.24it/s, Epoch=43, Valid_AUROC=0.825, Valid_Loss=0.74]\n"
          ]
        },
        {
          "output_type": "stream",
          "name": "stdout",
          "text": [
            "[INFO] Validation AUROC Improved (0.8181 ---> 0.8247)\n",
            "[INFO] Model Saved at AUROC0.8247_Loss0.7395_epoch43.bin\n",
            "\n"
          ]
        },
        {
          "output_type": "stream",
          "name": "stderr",
          "text": [
            "Epoch 44: 100%|██████████| 4/4 [00:02<00:00,  1.39it/s, Epoch=44, LR=9.97e-5, Train_AUROC=0.964, Train_Loss=0.541]\n",
            "Validation Epoch 44: 100%|██████████| 14/14 [00:11<00:00,  1.20it/s, Epoch=44, Valid_AUROC=0.824, Valid_Loss=0.745]\n"
          ]
        },
        {
          "output_type": "stream",
          "name": "stdout",
          "text": [
            "\n"
          ]
        },
        {
          "output_type": "stream",
          "name": "stderr",
          "text": [
            "Epoch 45: 100%|██████████| 4/4 [00:03<00:00,  1.19it/s, Epoch=45, LR=9.97e-5, Train_AUROC=0.956, Train_Loss=0.537]\n",
            "Validation Epoch 45: 100%|██████████| 14/14 [00:10<00:00,  1.28it/s, Epoch=45, Valid_AUROC=0.82, Valid_Loss=0.741]\n"
          ]
        },
        {
          "output_type": "stream",
          "name": "stdout",
          "text": [
            "\n"
          ]
        },
        {
          "output_type": "stream",
          "name": "stderr",
          "text": [
            "Epoch 46: 100%|██████████| 4/4 [00:03<00:00,  1.30it/s, Epoch=46, LR=9.97e-5, Train_AUROC=0.979, Train_Loss=0.524]\n",
            "Validation Epoch 46: 100%|██████████| 14/14 [00:08<00:00,  1.58it/s, Epoch=46, Valid_AUROC=0.818, Valid_Loss=0.743]\n"
          ]
        },
        {
          "output_type": "stream",
          "name": "stdout",
          "text": [
            "\n"
          ]
        },
        {
          "output_type": "stream",
          "name": "stderr",
          "text": [
            "Epoch 47: 100%|██████████| 4/4 [00:05<00:00,  1.36s/it, Epoch=47, LR=9.97e-5, Train_AUROC=0.973, Train_Loss=0.526]\n",
            "Validation Epoch 47: 100%|██████████| 14/14 [00:08<00:00,  1.71it/s, Epoch=47, Valid_AUROC=0.816, Valid_Loss=0.752]\n"
          ]
        },
        {
          "output_type": "stream",
          "name": "stdout",
          "text": [
            "\n"
          ]
        },
        {
          "output_type": "stream",
          "name": "stderr",
          "text": [
            "Epoch 48: 100%|██████████| 4/4 [00:03<00:00,  1.11it/s, Epoch=48, LR=9.97e-5, Train_AUROC=0.989, Train_Loss=0.528]\n",
            "Validation Epoch 48: 100%|██████████| 14/14 [00:10<00:00,  1.39it/s, Epoch=48, Valid_AUROC=0.818, Valid_Loss=0.768]\n"
          ]
        },
        {
          "output_type": "stream",
          "name": "stdout",
          "text": [
            "\n"
          ]
        },
        {
          "output_type": "stream",
          "name": "stderr",
          "text": [
            "Epoch 49: 100%|██████████| 4/4 [00:02<00:00,  1.40it/s, Epoch=49, LR=9.97e-5, Train_AUROC=0.994, Train_Loss=0.555]\n",
            "Validation Epoch 49: 100%|██████████| 14/14 [00:13<00:00,  1.04it/s, Epoch=49, Valid_AUROC=0.812, Valid_Loss=0.778]\n"
          ]
        },
        {
          "output_type": "stream",
          "name": "stdout",
          "text": [
            "\n"
          ]
        },
        {
          "output_type": "stream",
          "name": "stderr",
          "text": [
            "Epoch 50: 100%|██████████| 4/4 [00:02<00:00,  1.39it/s, Epoch=50, LR=9.97e-5, Train_AUROC=0.973, Train_Loss=0.511]\n",
            "Validation Epoch 50: 100%|██████████| 14/14 [00:10<00:00,  1.36it/s, Epoch=50, Valid_AUROC=0.809, Valid_Loss=0.774]\n"
          ]
        },
        {
          "output_type": "stream",
          "name": "stdout",
          "text": [
            "\n",
            "Training complete in 0h 14m 1s\n",
            "Best Validation AUROC: 0.8247\n"
          ]
        }
      ]
    },
    {
      "cell_type": "code",
      "source": [
        "history = pd.DataFrame.from_dict(history)"
      ],
      "metadata": {
        "id": "ggIMTbfGC8YG"
      },
      "execution_count": null,
      "outputs": []
    },
    {
      "cell_type": "markdown",
      "source": [
        "# ***Logs***\n"
      ],
      "metadata": {
        "id": "aj4_pnpsDGZA"
      }
    },
    {
      "cell_type": "code",
      "source": [
        "# Plotting Training and Validation Loss\n",
        "def plot_loss(history):\n",
        "    \"\"\"\n",
        "    Plots the training and validation loss from the training history.\n",
        "\n",
        "    Args:\n",
        "        history (dict): Training history containing 'Train Loss' and 'Valid Loss' as keys.\n",
        "    \"\"\"\n",
        "    plt.figure(figsize=(10, 6))  # Adjust the figure size\n",
        "    epochs = range(1, len(history[\"Train Loss\"]) + 1)  # Epochs start at 1\n",
        "\n",
        "    # Plot Train and Validation Loss\n",
        "    plt.plot(epochs, history[\"Train Loss\"], label=\"Train Loss\", marker='o')\n",
        "    plt.plot(epochs, history[\"Valid Loss\"], label=\"Valid Loss\", marker='x')\n",
        "    plt.xlabel(\"Epochs\")\n",
        "    plt.ylabel(\"Loss\")\n",
        "    plt.title(\"Training and Validation Loss Over Epochs\")\n",
        "    plt.grid(True)\n",
        "    plt.legend(loc=\"upper right\")\n",
        "    plt.tight_layout()  # Adjust layout to avoid clipping\n",
        "\n",
        "    plt.show()\n",
        "\n",
        "# Example Usage\n",
        "plot_loss(history)"
      ],
      "metadata": {
        "colab": {
          "base_uri": "https://localhost:8080/",
          "height": 607
        },
        "id": "MfeNf0vyDGG3",
        "outputId": "605ef4d6-a99d-4c16-bb6e-65797fe83e41"
      },
      "execution_count": null,
      "outputs": [
        {
          "output_type": "display_data",
          "data": {
            "text/plain": [
              "<Figure size 1000x600 with 1 Axes>"
            ],
            "image/png": "[encoded data removed]"
          },
          "metadata": {}
        }
      ]
    },
    {
      "cell_type": "code",
      "source": [
        "def plot_auroc(history):\n",
        "    \"\"\"\n",
        "    Plots the training and validation AUROC from the training history.\n",
        "\n",
        "    Args:\n",
        "        history (dict): Training history containing 'Train AUROC' and 'Valid AUROC' as keys.\n",
        "    \"\"\"\n",
        "    plt.figure(figsize=(10, 6))\n",
        "    epochs = range(1, len(history[\"Train AUROC\"]) + 1)\n",
        "\n",
        "    # Plot Train and Validation AUROC\n",
        "    plt.plot(epochs, history[\"Train AUROC\"], label=\"Train AUROC\", marker='o')\n",
        "    plt.plot(epochs, history[\"Valid AUROC\"], label=\"Valid AUROC\", marker='x')\n",
        "    plt.xlabel(\"Epochs\")\n",
        "    plt.ylabel(\"AUROC\")\n",
        "    plt.title(\"Training and Validation AUROC Over Epochs\")\n",
        "    plt.grid(True)\n",
        "    plt.legend(loc=\"lower right\")\n",
        "    plt.tight_layout()\n",
        "\n",
        "    plt.show()\n",
        "\n",
        "# Example Usage\n",
        "plot_auroc(history)"
      ],
      "metadata": {
        "id": "90Zgj8U4DRFT",
        "outputId": "d7e6fce2-22ed-40f7-9ce7-a893e6f9b3c2",
        "colab": {
          "base_uri": "https://localhost:8080/",
          "height": 607
        }
      },
      "execution_count": null,
      "outputs": [
        {
          "output_type": "display_data",
          "data": {
            "text/plain": [
              "<Figure size 1000x600 with 1 Axes>"
            ],
            "image/png": "[encoded data removed]"
          },
          "metadata": {}
        }
      ]
    },
    {
      "cell_type": "code",
      "source": [],
      "metadata": {
        "id": "wQzPBurm_t6d"
      },
      "execution_count": null,
      "outputs": []
    }
  ]
}